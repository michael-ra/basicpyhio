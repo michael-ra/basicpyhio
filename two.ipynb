{
  "nbformat": 4,
  "nbformat_minor": 5,
  "metadata": {
    "kernelspec": {
      "display_name": "Python 3",
      "language": "python",
      "name": "python3"
    },
    "language_info": {
      "codemirror_mode": {
        "name": "ipython",
        "version": 3
      },
      "file_extension": ".py",
      "mimetype": "text/x-python",
      "name": "python",
      "nbconvert_exporter": "python",
      "pygments_lexer": "ipython3",
      "version": "3.7.10"
    },
    "colab": {
      "name": "two.ipynb",
      "provenance": []
    }
  },
  "cells": [
    {
      "cell_type": "markdown",
      "metadata": {
        "id": "74f0ca76-772f-447f-b223-1549cc0e1fab"
      },
      "source": [
        "# Final Project Basic Python "
      ],
      "id": "74f0ca76-772f-447f-b223-1549cc0e1fab"
    },
    {
      "cell_type": "markdown",
      "metadata": {
        "id": "7a9ff89d-2d32-4106-9a3b-496818f705ce"
      },
      "source": [
        "In the following notebook we use the deep learning library Keras to predict whether a person has diabetes or not. The data we use originally stems from UCI Machine Learning. \n",
        "We followed a Tutorial (https://machinelearningmastery.com/tutorial-first-neural-network-python-keras/) to get a first grip on the topic of deep learning and expanded on it. \n",
        "All code we took from the tutorial is marked as \"from tutorial\""
      ],
      "id": "7a9ff89d-2d32-4106-9a3b-496818f705ce"
    },
    {
      "cell_type": "code",
      "metadata": {
        "id": "271bf4ab"
      },
      "source": [
        "import numpy as np\n",
        "from matplotlib import pyplot\n",
        "from numpy import loadtxt\n",
        "\n",
        "import sklearn as sk\n",
        "import matplotlib.pyplot as plt\n",
        "from tensorflow.keras.models import Sequential\n",
        "from tensorflow.keras.layers import Dense\n",
        "\n",
        "from tensorflow import keras\n",
        "from keras.utils.vis_utils import plot_model\n",
        "import seaborn as sns\n",
        "import pandas as pd"
      ],
      "id": "271bf4ab",
      "execution_count": 48,
      "outputs": []
    },
    {
      "cell_type": "code",
      "metadata": {
        "id": "02b1b7fd"
      },
      "source": [
        "\n"
      ],
      "id": "02b1b7fd",
      "execution_count": null,
      "outputs": []
    },
    {
      "cell_type": "code",
      "metadata": {
        "id": "03ac13d8"
      },
      "source": [
        "# Import tools needed for visualization\n",
        "from sklearn.tree import export_graphviz\n",
        "import pydot"
      ],
      "id": "03ac13d8",
      "execution_count": 6,
      "outputs": []
    },
    {
      "cell_type": "code",
      "metadata": {
        "id": "e1c7da42"
      },
      "source": [
        ""
      ],
      "id": "e1c7da42",
      "execution_count": null,
      "outputs": []
    },
    {
      "cell_type": "markdown",
      "metadata": {
        "id": "4ffb88ac-9d68-4f91-9129-70339a0d2feb"
      },
      "source": [
        "## Data Preprocessing"
      ],
      "id": "4ffb88ac-9d68-4f91-9129-70339a0d2feb"
    },
    {
      "cell_type": "code",
      "metadata": {
        "id": "da098bca"
      },
      "source": [
        "# load the dataset\n",
        "dataset = pd.read_csv('https://raw.githubusercontent.com/MagMueller/BasicPython/main/pima-indians-diabetes.csv', delimiter=',', names=[\"Number of pregnancies\", \"Plasma glucose\", \"mm Hg blood press.\", \"Triceps skin thickness\", \"2 hour serum insulin mu U per ml\", \"bmi\", \"pedigree diabetes function\", \"age\"])\n"
      ],
      "id": "da098bca",
      "execution_count": 12,
      "outputs": []
    },
    {
      "cell_type": "markdown",
      "metadata": {
        "id": "48ee17cb-1694-40e8-bfcc-5e956043fb7a"
      },
      "source": [
        "After loading the data we convert it to a pandas dataframe which will facilitate further processing. After that we want to get a first overview over the data."
      ],
      "id": "48ee17cb-1694-40e8-bfcc-5e956043fb7a"
    },
    {
      "cell_type": "code",
      "metadata": {
        "colab": {
          "base_uri": "https://localhost:8080/",
          "height": 221
        },
        "id": "83b06964-3380-4a59-b49a-ca18e5f6b1de",
        "outputId": "05ac1835-d7b6-4d58-d7c6-b67d7eb184bd"
      },
      "source": [
        "df = pd.DataFrame.from_records(dataset)\n",
        "print(\"length of dataset: {}\".format(len(df)))\n",
        "df.head()"
      ],
      "id": "83b06964-3380-4a59-b49a-ca18e5f6b1de",
      "execution_count": 13,
      "outputs": [
        {
          "output_type": "stream",
          "text": [
            "length of dataset: 768\n"
          ],
          "name": "stdout"
        },
        {
          "output_type": "execute_result",
          "data": {
            "text/html": [
              "<div>\n",
              "<style scoped>\n",
              "    .dataframe tbody tr th:only-of-type {\n",
              "        vertical-align: middle;\n",
              "    }\n",
              "\n",
              "    .dataframe tbody tr th {\n",
              "        vertical-align: top;\n",
              "    }\n",
              "\n",
              "    .dataframe thead th {\n",
              "        text-align: right;\n",
              "    }\n",
              "</style>\n",
              "<table border=\"1\" class=\"dataframe\">\n",
              "  <thead>\n",
              "    <tr style=\"text-align: right;\">\n",
              "      <th></th>\n",
              "      <th>Number of pregnancies</th>\n",
              "      <th>Plasma glucose</th>\n",
              "      <th>mm Hg blood press.</th>\n",
              "      <th>Triceps skin thickness</th>\n",
              "      <th>2 hour serum insulin mu U per ml</th>\n",
              "      <th>bmi</th>\n",
              "      <th>pedigree diabetes function</th>\n",
              "      <th>age</th>\n",
              "    </tr>\n",
              "  </thead>\n",
              "  <tbody>\n",
              "    <tr>\n",
              "      <th>0</th>\n",
              "      <td>148</td>\n",
              "      <td>72</td>\n",
              "      <td>35</td>\n",
              "      <td>0</td>\n",
              "      <td>33.6</td>\n",
              "      <td>0.627</td>\n",
              "      <td>50</td>\n",
              "      <td>1</td>\n",
              "    </tr>\n",
              "    <tr>\n",
              "      <th>1</th>\n",
              "      <td>85</td>\n",
              "      <td>66</td>\n",
              "      <td>29</td>\n",
              "      <td>0</td>\n",
              "      <td>26.6</td>\n",
              "      <td>0.351</td>\n",
              "      <td>31</td>\n",
              "      <td>0</td>\n",
              "    </tr>\n",
              "    <tr>\n",
              "      <th>2</th>\n",
              "      <td>183</td>\n",
              "      <td>64</td>\n",
              "      <td>0</td>\n",
              "      <td>0</td>\n",
              "      <td>23.3</td>\n",
              "      <td>0.672</td>\n",
              "      <td>32</td>\n",
              "      <td>1</td>\n",
              "    </tr>\n",
              "    <tr>\n",
              "      <th>3</th>\n",
              "      <td>89</td>\n",
              "      <td>66</td>\n",
              "      <td>23</td>\n",
              "      <td>94</td>\n",
              "      <td>28.1</td>\n",
              "      <td>0.167</td>\n",
              "      <td>21</td>\n",
              "      <td>0</td>\n",
              "    </tr>\n",
              "    <tr>\n",
              "      <th>4</th>\n",
              "      <td>137</td>\n",
              "      <td>40</td>\n",
              "      <td>35</td>\n",
              "      <td>168</td>\n",
              "      <td>43.1</td>\n",
              "      <td>2.288</td>\n",
              "      <td>33</td>\n",
              "      <td>1</td>\n",
              "    </tr>\n",
              "  </tbody>\n",
              "</table>\n",
              "</div>"
            ],
            "text/plain": [
              "   Number of pregnancies  Plasma glucose  ...  pedigree diabetes function  age\n",
              "0                    148              72  ...                          50    1\n",
              "1                     85              66  ...                          31    0\n",
              "2                    183              64  ...                          32    1\n",
              "3                     89              66  ...                          21    0\n",
              "4                    137              40  ...                          33    1\n",
              "\n",
              "[5 rows x 8 columns]"
            ]
          },
          "metadata": {
            "tags": []
          },
          "execution_count": 13
        }
      ]
    },
    {
      "cell_type": "markdown",
      "metadata": {
        "id": "67bea7e5-3700-4d35-950a-dbf04bd61a33"
      },
      "source": [
        "We now know that our dataframe has 768 rows and 9 columns. In order to improve readibility and facilitate the handling of the data we added meaningful names to the columns."
      ],
      "id": "67bea7e5-3700-4d35-950a-dbf04bd61a33"
    },
    {
      "cell_type": "code",
      "metadata": {
        "colab": {
          "base_uri": "https://localhost:8080/",
          "height": 391
        },
        "id": "d1cfcc66",
        "outputId": "68d559b3-b774-4558-c975-67479a9b718a"
      },
      "source": [
        "\n",
        "df.columns = [\"Pregnancies\", \"Plasma gluc conc\", \n",
        "              \"Blood pressure\", \"Skin thickness\", \n",
        "              \"Serum-insulin\", \"BMI\", \"Diabetis pedigree func\", \n",
        "              \"Age\", \"has diabetes\"]\n",
        "df.head()"
      ],
      "id": "d1cfcc66",
      "execution_count": 14,
      "outputs": [
        {
          "output_type": "error",
          "ename": "ValueError",
          "evalue": "ignored",
          "traceback": [
            "\u001b[0;31m---------------------------------------------------------------------------\u001b[0m",
            "\u001b[0;31mValueError\u001b[0m                                Traceback (most recent call last)",
            "\u001b[0;32m<ipython-input-14-22362aaf5d5b>\u001b[0m in \u001b[0;36m<module>\u001b[0;34m()\u001b[0m\n\u001b[1;32m      3\u001b[0m               \u001b[0;34m\"Blood pressure\"\u001b[0m\u001b[0;34m,\u001b[0m \u001b[0;34m\"Skin thickness\"\u001b[0m\u001b[0;34m,\u001b[0m\u001b[0;34m\u001b[0m\u001b[0;34m\u001b[0m\u001b[0m\n\u001b[1;32m      4\u001b[0m               \u001b[0;34m\"Serum-insulin\"\u001b[0m\u001b[0;34m,\u001b[0m \u001b[0;34m\"BMI\"\u001b[0m\u001b[0;34m,\u001b[0m \u001b[0;34m\"Diabetis pedigree func\"\u001b[0m\u001b[0;34m,\u001b[0m\u001b[0;34m\u001b[0m\u001b[0;34m\u001b[0m\u001b[0m\n\u001b[0;32m----> 5\u001b[0;31m               \"Age\", \"has diabetes\"]\n\u001b[0m\u001b[1;32m      6\u001b[0m \u001b[0mdf\u001b[0m\u001b[0;34m.\u001b[0m\u001b[0mhead\u001b[0m\u001b[0;34m(\u001b[0m\u001b[0;34m)\u001b[0m\u001b[0;34m\u001b[0m\u001b[0;34m\u001b[0m\u001b[0m\n",
            "\u001b[0;32m/usr/local/lib/python3.7/dist-packages/pandas/core/generic.py\u001b[0m in \u001b[0;36m__setattr__\u001b[0;34m(self, name, value)\u001b[0m\n\u001b[1;32m   5152\u001b[0m         \u001b[0;32mtry\u001b[0m\u001b[0;34m:\u001b[0m\u001b[0;34m\u001b[0m\u001b[0;34m\u001b[0m\u001b[0m\n\u001b[1;32m   5153\u001b[0m             \u001b[0mobject\u001b[0m\u001b[0;34m.\u001b[0m\u001b[0m__getattribute__\u001b[0m\u001b[0;34m(\u001b[0m\u001b[0mself\u001b[0m\u001b[0;34m,\u001b[0m \u001b[0mname\u001b[0m\u001b[0;34m)\u001b[0m\u001b[0;34m\u001b[0m\u001b[0;34m\u001b[0m\u001b[0m\n\u001b[0;32m-> 5154\u001b[0;31m             \u001b[0;32mreturn\u001b[0m \u001b[0mobject\u001b[0m\u001b[0;34m.\u001b[0m\u001b[0m__setattr__\u001b[0m\u001b[0;34m(\u001b[0m\u001b[0mself\u001b[0m\u001b[0;34m,\u001b[0m \u001b[0mname\u001b[0m\u001b[0;34m,\u001b[0m \u001b[0mvalue\u001b[0m\u001b[0;34m)\u001b[0m\u001b[0;34m\u001b[0m\u001b[0;34m\u001b[0m\u001b[0m\n\u001b[0m\u001b[1;32m   5155\u001b[0m         \u001b[0;32mexcept\u001b[0m \u001b[0mAttributeError\u001b[0m\u001b[0;34m:\u001b[0m\u001b[0;34m\u001b[0m\u001b[0;34m\u001b[0m\u001b[0m\n\u001b[1;32m   5156\u001b[0m             \u001b[0;32mpass\u001b[0m\u001b[0;34m\u001b[0m\u001b[0;34m\u001b[0m\u001b[0m\n",
            "\u001b[0;32mpandas/_libs/properties.pyx\u001b[0m in \u001b[0;36mpandas._libs.properties.AxisProperty.__set__\u001b[0;34m()\u001b[0m\n",
            "\u001b[0;32m/usr/local/lib/python3.7/dist-packages/pandas/core/generic.py\u001b[0m in \u001b[0;36m_set_axis\u001b[0;34m(self, axis, labels)\u001b[0m\n\u001b[1;32m    562\u001b[0m     \u001b[0;32mdef\u001b[0m \u001b[0m_set_axis\u001b[0m\u001b[0;34m(\u001b[0m\u001b[0mself\u001b[0m\u001b[0;34m,\u001b[0m \u001b[0maxis\u001b[0m\u001b[0;34m:\u001b[0m \u001b[0mint\u001b[0m\u001b[0;34m,\u001b[0m \u001b[0mlabels\u001b[0m\u001b[0;34m:\u001b[0m \u001b[0mIndex\u001b[0m\u001b[0;34m)\u001b[0m \u001b[0;34m->\u001b[0m \u001b[0;32mNone\u001b[0m\u001b[0;34m:\u001b[0m\u001b[0;34m\u001b[0m\u001b[0;34m\u001b[0m\u001b[0m\n\u001b[1;32m    563\u001b[0m         \u001b[0mlabels\u001b[0m \u001b[0;34m=\u001b[0m \u001b[0mensure_index\u001b[0m\u001b[0;34m(\u001b[0m\u001b[0mlabels\u001b[0m\u001b[0;34m)\u001b[0m\u001b[0;34m\u001b[0m\u001b[0;34m\u001b[0m\u001b[0m\n\u001b[0;32m--> 564\u001b[0;31m         \u001b[0mself\u001b[0m\u001b[0;34m.\u001b[0m\u001b[0m_mgr\u001b[0m\u001b[0;34m.\u001b[0m\u001b[0mset_axis\u001b[0m\u001b[0;34m(\u001b[0m\u001b[0maxis\u001b[0m\u001b[0;34m,\u001b[0m \u001b[0mlabels\u001b[0m\u001b[0;34m)\u001b[0m\u001b[0;34m\u001b[0m\u001b[0;34m\u001b[0m\u001b[0m\n\u001b[0m\u001b[1;32m    565\u001b[0m         \u001b[0mself\u001b[0m\u001b[0;34m.\u001b[0m\u001b[0m_clear_item_cache\u001b[0m\u001b[0;34m(\u001b[0m\u001b[0;34m)\u001b[0m\u001b[0;34m\u001b[0m\u001b[0;34m\u001b[0m\u001b[0m\n\u001b[1;32m    566\u001b[0m \u001b[0;34m\u001b[0m\u001b[0m\n",
            "\u001b[0;32m/usr/local/lib/python3.7/dist-packages/pandas/core/internals/managers.py\u001b[0m in \u001b[0;36mset_axis\u001b[0;34m(self, axis, new_labels)\u001b[0m\n\u001b[1;32m    225\u001b[0m         \u001b[0;32mif\u001b[0m \u001b[0mnew_len\u001b[0m \u001b[0;34m!=\u001b[0m \u001b[0mold_len\u001b[0m\u001b[0;34m:\u001b[0m\u001b[0;34m\u001b[0m\u001b[0;34m\u001b[0m\u001b[0m\n\u001b[1;32m    226\u001b[0m             raise ValueError(\n\u001b[0;32m--> 227\u001b[0;31m                 \u001b[0;34mf\"Length mismatch: Expected axis has {old_len} elements, new \"\u001b[0m\u001b[0;34m\u001b[0m\u001b[0;34m\u001b[0m\u001b[0m\n\u001b[0m\u001b[1;32m    228\u001b[0m                 \u001b[0;34mf\"values have {new_len} elements\"\u001b[0m\u001b[0;34m\u001b[0m\u001b[0;34m\u001b[0m\u001b[0m\n\u001b[1;32m    229\u001b[0m             )\n",
            "\u001b[0;31mValueError\u001b[0m: Length mismatch: Expected axis has 8 elements, new values have 9 elements"
          ]
        }
      ]
    },
    {
      "cell_type": "markdown",
      "metadata": {
        "id": "f7b699a6-56d4-40db-a2b0-b18220b01fa6"
      },
      "source": [
        "We now check whether the data comprises any NAs."
      ],
      "id": "f7b699a6-56d4-40db-a2b0-b18220b01fa6"
    },
    {
      "cell_type": "code",
      "metadata": {
        "colab": {
          "base_uri": "https://localhost:8080/"
        },
        "id": "cc5b17d3",
        "outputId": "569b9ce8-ec25-42d5-9694-42db06223800"
      },
      "source": [
        "df.isna().sum()"
      ],
      "id": "cc5b17d3",
      "execution_count": 15,
      "outputs": [
        {
          "output_type": "execute_result",
          "data": {
            "text/plain": [
              "Number of pregnancies               0\n",
              "Plasma glucose                      0\n",
              "mm Hg blood press.                  0\n",
              "Triceps skin thickness              0\n",
              "2 hour serum insulin mu U per ml    0\n",
              "bmi                                 0\n",
              "pedigree diabetes function          0\n",
              "age                                 0\n",
              "dtype: int64"
            ]
          },
          "metadata": {
            "tags": []
          },
          "execution_count": 15
        }
      ]
    },
    {
      "cell_type": "markdown",
      "metadata": {
        "id": "24dd02d8-a5f1-4b22-9d5f-153c1ea5a8a6"
      },
      "source": [
        "Since there are no NAs in the dataset we can move on to get a more detailed overview over our data by using pandas describe function. The produced dataframe is then transposed to improve readability."
      ],
      "id": "24dd02d8-a5f1-4b22-9d5f-153c1ea5a8a6"
    },
    {
      "cell_type": "code",
      "metadata": {
        "colab": {
          "base_uri": "https://localhost:8080/",
          "height": 297
        },
        "id": "6f5c1c6f",
        "outputId": "6b28be4d-ef81-45bd-9f3e-82ea6e5445db"
      },
      "source": [
        "df.describe().transpose()"
      ],
      "id": "6f5c1c6f",
      "execution_count": 16,
      "outputs": [
        {
          "output_type": "execute_result",
          "data": {
            "text/html": [
              "<div>\n",
              "<style scoped>\n",
              "    .dataframe tbody tr th:only-of-type {\n",
              "        vertical-align: middle;\n",
              "    }\n",
              "\n",
              "    .dataframe tbody tr th {\n",
              "        vertical-align: top;\n",
              "    }\n",
              "\n",
              "    .dataframe thead th {\n",
              "        text-align: right;\n",
              "    }\n",
              "</style>\n",
              "<table border=\"1\" class=\"dataframe\">\n",
              "  <thead>\n",
              "    <tr style=\"text-align: right;\">\n",
              "      <th></th>\n",
              "      <th>count</th>\n",
              "      <th>mean</th>\n",
              "      <th>std</th>\n",
              "      <th>min</th>\n",
              "      <th>25%</th>\n",
              "      <th>50%</th>\n",
              "      <th>75%</th>\n",
              "      <th>max</th>\n",
              "    </tr>\n",
              "  </thead>\n",
              "  <tbody>\n",
              "    <tr>\n",
              "      <th>Number of pregnancies</th>\n",
              "      <td>768.0</td>\n",
              "      <td>120.894531</td>\n",
              "      <td>31.972618</td>\n",
              "      <td>0.000</td>\n",
              "      <td>99.00000</td>\n",
              "      <td>117.0000</td>\n",
              "      <td>140.25000</td>\n",
              "      <td>199.00</td>\n",
              "    </tr>\n",
              "    <tr>\n",
              "      <th>Plasma glucose</th>\n",
              "      <td>768.0</td>\n",
              "      <td>69.105469</td>\n",
              "      <td>19.355807</td>\n",
              "      <td>0.000</td>\n",
              "      <td>62.00000</td>\n",
              "      <td>72.0000</td>\n",
              "      <td>80.00000</td>\n",
              "      <td>122.00</td>\n",
              "    </tr>\n",
              "    <tr>\n",
              "      <th>mm Hg blood press.</th>\n",
              "      <td>768.0</td>\n",
              "      <td>20.536458</td>\n",
              "      <td>15.952218</td>\n",
              "      <td>0.000</td>\n",
              "      <td>0.00000</td>\n",
              "      <td>23.0000</td>\n",
              "      <td>32.00000</td>\n",
              "      <td>99.00</td>\n",
              "    </tr>\n",
              "    <tr>\n",
              "      <th>Triceps skin thickness</th>\n",
              "      <td>768.0</td>\n",
              "      <td>79.799479</td>\n",
              "      <td>115.244002</td>\n",
              "      <td>0.000</td>\n",
              "      <td>0.00000</td>\n",
              "      <td>30.5000</td>\n",
              "      <td>127.25000</td>\n",
              "      <td>846.00</td>\n",
              "    </tr>\n",
              "    <tr>\n",
              "      <th>2 hour serum insulin mu U per ml</th>\n",
              "      <td>768.0</td>\n",
              "      <td>31.992578</td>\n",
              "      <td>7.884160</td>\n",
              "      <td>0.000</td>\n",
              "      <td>27.30000</td>\n",
              "      <td>32.0000</td>\n",
              "      <td>36.60000</td>\n",
              "      <td>67.10</td>\n",
              "    </tr>\n",
              "    <tr>\n",
              "      <th>bmi</th>\n",
              "      <td>768.0</td>\n",
              "      <td>0.471876</td>\n",
              "      <td>0.331329</td>\n",
              "      <td>0.078</td>\n",
              "      <td>0.24375</td>\n",
              "      <td>0.3725</td>\n",
              "      <td>0.62625</td>\n",
              "      <td>2.42</td>\n",
              "    </tr>\n",
              "    <tr>\n",
              "      <th>pedigree diabetes function</th>\n",
              "      <td>768.0</td>\n",
              "      <td>33.240885</td>\n",
              "      <td>11.760232</td>\n",
              "      <td>21.000</td>\n",
              "      <td>24.00000</td>\n",
              "      <td>29.0000</td>\n",
              "      <td>41.00000</td>\n",
              "      <td>81.00</td>\n",
              "    </tr>\n",
              "    <tr>\n",
              "      <th>age</th>\n",
              "      <td>768.0</td>\n",
              "      <td>0.348958</td>\n",
              "      <td>0.476951</td>\n",
              "      <td>0.000</td>\n",
              "      <td>0.00000</td>\n",
              "      <td>0.0000</td>\n",
              "      <td>1.00000</td>\n",
              "      <td>1.00</td>\n",
              "    </tr>\n",
              "  </tbody>\n",
              "</table>\n",
              "</div>"
            ],
            "text/plain": [
              "                                  count        mean  ...        75%     max\n",
              "Number of pregnancies             768.0  120.894531  ...  140.25000  199.00\n",
              "Plasma glucose                    768.0   69.105469  ...   80.00000  122.00\n",
              "mm Hg blood press.                768.0   20.536458  ...   32.00000   99.00\n",
              "Triceps skin thickness            768.0   79.799479  ...  127.25000  846.00\n",
              "2 hour serum insulin mu U per ml  768.0   31.992578  ...   36.60000   67.10\n",
              "bmi                               768.0    0.471876  ...    0.62625    2.42\n",
              "pedigree diabetes function        768.0   33.240885  ...   41.00000   81.00\n",
              "age                               768.0    0.348958  ...    1.00000    1.00\n",
              "\n",
              "[8 rows x 8 columns]"
            ]
          },
          "metadata": {
            "tags": []
          },
          "execution_count": 16
        }
      ]
    },
    {
      "cell_type": "markdown",
      "metadata": {
        "id": "dd3c5474-d57e-44ff-beb0-4bf98e88be4e"
      },
      "source": [
        "We can see that the min of some measurements is 0 where it is clearly only a replacement for NAs (eg. Blood pressure, BMI..). So we replace these missing measurements with a better substitution, which will  namely the median of the respective variable "
      ],
      "id": "dd3c5474-d57e-44ff-beb0-4bf98e88be4e"
    },
    {
      "cell_type": "code",
      "metadata": {
        "colab": {
          "base_uri": "https://localhost:8080/",
          "height": 807
        },
        "id": "ad3097c2",
        "outputId": "785af379-d22e-4d62-e937-1f387a7b6bcb"
      },
      "source": [
        "\n",
        "\n",
        "# We exclude the first and the last column since 0 is a plausible value for them\n",
        "for colname in df.columns[1:-1]: \n",
        "    col = df[colname] #select the individual column \n",
        "    col[col == 0.000] = col.median() #replace the every instance of value 0 with the median of the column\n",
        "\n",
        "\n",
        "df.describe().transpose()"
      ],
      "id": "ad3097c2",
      "execution_count": 17,
      "outputs": [
        {
          "output_type": "stream",
          "text": [
            "/usr/local/lib/python3.7/dist-packages/ipykernel_launcher.py:6: SettingWithCopyWarning: \n",
            "A value is trying to be set on a copy of a slice from a DataFrame\n",
            "\n",
            "See the caveats in the documentation: https://pandas.pydata.org/pandas-docs/stable/user_guide/indexing.html#returning-a-view-versus-a-copy\n",
            "  \n",
            "/usr/local/lib/python3.7/dist-packages/ipykernel_launcher.py:6: SettingWithCopyWarning: \n",
            "A value is trying to be set on a copy of a slice from a DataFrame\n",
            "\n",
            "See the caveats in the documentation: https://pandas.pydata.org/pandas-docs/stable/user_guide/indexing.html#returning-a-view-versus-a-copy\n",
            "  \n",
            "/usr/local/lib/python3.7/dist-packages/ipykernel_launcher.py:6: SettingWithCopyWarning: \n",
            "A value is trying to be set on a copy of a slice from a DataFrame\n",
            "\n",
            "See the caveats in the documentation: https://pandas.pydata.org/pandas-docs/stable/user_guide/indexing.html#returning-a-view-versus-a-copy\n",
            "  \n",
            "/usr/local/lib/python3.7/dist-packages/ipykernel_launcher.py:6: SettingWithCopyWarning: \n",
            "A value is trying to be set on a copy of a slice from a DataFrame\n",
            "\n",
            "See the caveats in the documentation: https://pandas.pydata.org/pandas-docs/stable/user_guide/indexing.html#returning-a-view-versus-a-copy\n",
            "  \n",
            "/usr/local/lib/python3.7/dist-packages/ipykernel_launcher.py:6: SettingWithCopyWarning: \n",
            "A value is trying to be set on a copy of a slice from a DataFrame\n",
            "\n",
            "See the caveats in the documentation: https://pandas.pydata.org/pandas-docs/stable/user_guide/indexing.html#returning-a-view-versus-a-copy\n",
            "  \n",
            "/usr/local/lib/python3.7/dist-packages/ipykernel_launcher.py:6: SettingWithCopyWarning: \n",
            "A value is trying to be set on a copy of a slice from a DataFrame\n",
            "\n",
            "See the caveats in the documentation: https://pandas.pydata.org/pandas-docs/stable/user_guide/indexing.html#returning-a-view-versus-a-copy\n",
            "  \n"
          ],
          "name": "stderr"
        },
        {
          "output_type": "execute_result",
          "data": {
            "text/html": [
              "<div>\n",
              "<style scoped>\n",
              "    .dataframe tbody tr th:only-of-type {\n",
              "        vertical-align: middle;\n",
              "    }\n",
              "\n",
              "    .dataframe tbody tr th {\n",
              "        vertical-align: top;\n",
              "    }\n",
              "\n",
              "    .dataframe thead th {\n",
              "        text-align: right;\n",
              "    }\n",
              "</style>\n",
              "<table border=\"1\" class=\"dataframe\">\n",
              "  <thead>\n",
              "    <tr style=\"text-align: right;\">\n",
              "      <th></th>\n",
              "      <th>count</th>\n",
              "      <th>mean</th>\n",
              "      <th>std</th>\n",
              "      <th>min</th>\n",
              "      <th>25%</th>\n",
              "      <th>50%</th>\n",
              "      <th>75%</th>\n",
              "      <th>max</th>\n",
              "    </tr>\n",
              "  </thead>\n",
              "  <tbody>\n",
              "    <tr>\n",
              "      <th>Number of pregnancies</th>\n",
              "      <td>768.0</td>\n",
              "      <td>120.894531</td>\n",
              "      <td>31.972618</td>\n",
              "      <td>0.000</td>\n",
              "      <td>99.00000</td>\n",
              "      <td>117.0000</td>\n",
              "      <td>140.25000</td>\n",
              "      <td>199.00</td>\n",
              "    </tr>\n",
              "    <tr>\n",
              "      <th>Plasma glucose</th>\n",
              "      <td>768.0</td>\n",
              "      <td>72.386719</td>\n",
              "      <td>12.096642</td>\n",
              "      <td>24.000</td>\n",
              "      <td>64.00000</td>\n",
              "      <td>72.0000</td>\n",
              "      <td>80.00000</td>\n",
              "      <td>122.00</td>\n",
              "    </tr>\n",
              "    <tr>\n",
              "      <th>mm Hg blood press.</th>\n",
              "      <td>768.0</td>\n",
              "      <td>27.334635</td>\n",
              "      <td>9.229014</td>\n",
              "      <td>7.000</td>\n",
              "      <td>23.00000</td>\n",
              "      <td>23.0000</td>\n",
              "      <td>32.00000</td>\n",
              "      <td>99.00</td>\n",
              "    </tr>\n",
              "    <tr>\n",
              "      <th>Triceps skin thickness</th>\n",
              "      <td>768.0</td>\n",
              "      <td>94.652344</td>\n",
              "      <td>105.547598</td>\n",
              "      <td>14.000</td>\n",
              "      <td>30.50000</td>\n",
              "      <td>31.2500</td>\n",
              "      <td>127.25000</td>\n",
              "      <td>846.00</td>\n",
              "    </tr>\n",
              "    <tr>\n",
              "      <th>2 hour serum insulin mu U per ml</th>\n",
              "      <td>768.0</td>\n",
              "      <td>32.450911</td>\n",
              "      <td>6.875366</td>\n",
              "      <td>18.200</td>\n",
              "      <td>27.50000</td>\n",
              "      <td>32.0000</td>\n",
              "      <td>36.60000</td>\n",
              "      <td>67.10</td>\n",
              "    </tr>\n",
              "    <tr>\n",
              "      <th>bmi</th>\n",
              "      <td>768.0</td>\n",
              "      <td>0.471876</td>\n",
              "      <td>0.331329</td>\n",
              "      <td>0.078</td>\n",
              "      <td>0.24375</td>\n",
              "      <td>0.3725</td>\n",
              "      <td>0.62625</td>\n",
              "      <td>2.42</td>\n",
              "    </tr>\n",
              "    <tr>\n",
              "      <th>pedigree diabetes function</th>\n",
              "      <td>768.0</td>\n",
              "      <td>33.240885</td>\n",
              "      <td>11.760232</td>\n",
              "      <td>21.000</td>\n",
              "      <td>24.00000</td>\n",
              "      <td>29.0000</td>\n",
              "      <td>41.00000</td>\n",
              "      <td>81.00</td>\n",
              "    </tr>\n",
              "    <tr>\n",
              "      <th>age</th>\n",
              "      <td>768.0</td>\n",
              "      <td>0.348958</td>\n",
              "      <td>0.476951</td>\n",
              "      <td>0.000</td>\n",
              "      <td>0.00000</td>\n",
              "      <td>0.0000</td>\n",
              "      <td>1.00000</td>\n",
              "      <td>1.00</td>\n",
              "    </tr>\n",
              "  </tbody>\n",
              "</table>\n",
              "</div>"
            ],
            "text/plain": [
              "                                  count        mean  ...        75%     max\n",
              "Number of pregnancies             768.0  120.894531  ...  140.25000  199.00\n",
              "Plasma glucose                    768.0   72.386719  ...   80.00000  122.00\n",
              "mm Hg blood press.                768.0   27.334635  ...   32.00000   99.00\n",
              "Triceps skin thickness            768.0   94.652344  ...  127.25000  846.00\n",
              "2 hour serum insulin mu U per ml  768.0   32.450911  ...   36.60000   67.10\n",
              "bmi                               768.0    0.471876  ...    0.62625    2.42\n",
              "pedigree diabetes function        768.0   33.240885  ...   41.00000   81.00\n",
              "age                               768.0    0.348958  ...    1.00000    1.00\n",
              "\n",
              "[8 rows x 8 columns]"
            ]
          },
          "metadata": {
            "tags": []
          },
          "execution_count": 17
        }
      ]
    },
    {
      "cell_type": "markdown",
      "metadata": {
        "id": "88c712b8-87d1-470e-bb07-9fa2571cc7a2"
      },
      "source": [
        "We can see that for Serum insulin the values range from 14 to 846 while for the diabetes pedigree function the values values stay between 0.078 and 2.42. This large disparity of value size could yield problems in the learning process, therefore we normalized the data by dividing every item of a column by the maximum value of the column."
      ],
      "id": "88c712b8-87d1-470e-bb07-9fa2571cc7a2"
    },
    {
      "cell_type": "code",
      "metadata": {
        "colab": {
          "base_uri": "https://localhost:8080/",
          "height": 297
        },
        "id": "79aaf6b4",
        "outputId": "65fa15c6-0877-49d0-d7f4-3e7e1d471e19"
      },
      "source": [
        "#normalize by deviding every element of the dataframe by the maximum value of the dataframe\n",
        "df_unscaled = df.copy()\n",
        "for column in df.columns:\n",
        "    df[column] = df[column]  / df[column].abs().max()\n",
        "\n",
        "\n",
        "df.describe().transpose()"
      ],
      "id": "79aaf6b4",
      "execution_count": 18,
      "outputs": [
        {
          "output_type": "execute_result",
          "data": {
            "text/html": [
              "<div>\n",
              "<style scoped>\n",
              "    .dataframe tbody tr th:only-of-type {\n",
              "        vertical-align: middle;\n",
              "    }\n",
              "\n",
              "    .dataframe tbody tr th {\n",
              "        vertical-align: top;\n",
              "    }\n",
              "\n",
              "    .dataframe thead th {\n",
              "        text-align: right;\n",
              "    }\n",
              "</style>\n",
              "<table border=\"1\" class=\"dataframe\">\n",
              "  <thead>\n",
              "    <tr style=\"text-align: right;\">\n",
              "      <th></th>\n",
              "      <th>count</th>\n",
              "      <th>mean</th>\n",
              "      <th>std</th>\n",
              "      <th>min</th>\n",
              "      <th>25%</th>\n",
              "      <th>50%</th>\n",
              "      <th>75%</th>\n",
              "      <th>max</th>\n",
              "    </tr>\n",
              "  </thead>\n",
              "  <tbody>\n",
              "    <tr>\n",
              "      <th>Number of pregnancies</th>\n",
              "      <td>768.0</td>\n",
              "      <td>0.607510</td>\n",
              "      <td>0.160666</td>\n",
              "      <td>0.000000</td>\n",
              "      <td>0.497487</td>\n",
              "      <td>0.587940</td>\n",
              "      <td>0.704774</td>\n",
              "      <td>1.0</td>\n",
              "    </tr>\n",
              "    <tr>\n",
              "      <th>Plasma glucose</th>\n",
              "      <td>768.0</td>\n",
              "      <td>0.593334</td>\n",
              "      <td>0.099153</td>\n",
              "      <td>0.196721</td>\n",
              "      <td>0.524590</td>\n",
              "      <td>0.590164</td>\n",
              "      <td>0.655738</td>\n",
              "      <td>1.0</td>\n",
              "    </tr>\n",
              "    <tr>\n",
              "      <th>mm Hg blood press.</th>\n",
              "      <td>768.0</td>\n",
              "      <td>0.276107</td>\n",
              "      <td>0.093222</td>\n",
              "      <td>0.070707</td>\n",
              "      <td>0.232323</td>\n",
              "      <td>0.232323</td>\n",
              "      <td>0.323232</td>\n",
              "      <td>1.0</td>\n",
              "    </tr>\n",
              "    <tr>\n",
              "      <th>Triceps skin thickness</th>\n",
              "      <td>768.0</td>\n",
              "      <td>0.111882</td>\n",
              "      <td>0.124761</td>\n",
              "      <td>0.016548</td>\n",
              "      <td>0.036052</td>\n",
              "      <td>0.036939</td>\n",
              "      <td>0.150414</td>\n",
              "      <td>1.0</td>\n",
              "    </tr>\n",
              "    <tr>\n",
              "      <th>2 hour serum insulin mu U per ml</th>\n",
              "      <td>768.0</td>\n",
              "      <td>0.483620</td>\n",
              "      <td>0.102464</td>\n",
              "      <td>0.271237</td>\n",
              "      <td>0.409836</td>\n",
              "      <td>0.476900</td>\n",
              "      <td>0.545455</td>\n",
              "      <td>1.0</td>\n",
              "    </tr>\n",
              "    <tr>\n",
              "      <th>bmi</th>\n",
              "      <td>768.0</td>\n",
              "      <td>0.194990</td>\n",
              "      <td>0.136913</td>\n",
              "      <td>0.032231</td>\n",
              "      <td>0.100723</td>\n",
              "      <td>0.153926</td>\n",
              "      <td>0.258781</td>\n",
              "      <td>1.0</td>\n",
              "    </tr>\n",
              "    <tr>\n",
              "      <th>pedigree diabetes function</th>\n",
              "      <td>768.0</td>\n",
              "      <td>0.410381</td>\n",
              "      <td>0.145188</td>\n",
              "      <td>0.259259</td>\n",
              "      <td>0.296296</td>\n",
              "      <td>0.358025</td>\n",
              "      <td>0.506173</td>\n",
              "      <td>1.0</td>\n",
              "    </tr>\n",
              "    <tr>\n",
              "      <th>age</th>\n",
              "      <td>768.0</td>\n",
              "      <td>0.348958</td>\n",
              "      <td>0.476951</td>\n",
              "      <td>0.000000</td>\n",
              "      <td>0.000000</td>\n",
              "      <td>0.000000</td>\n",
              "      <td>1.000000</td>\n",
              "      <td>1.0</td>\n",
              "    </tr>\n",
              "  </tbody>\n",
              "</table>\n",
              "</div>"
            ],
            "text/plain": [
              "                                  count      mean  ...       75%  max\n",
              "Number of pregnancies             768.0  0.607510  ...  0.704774  1.0\n",
              "Plasma glucose                    768.0  0.593334  ...  0.655738  1.0\n",
              "mm Hg blood press.                768.0  0.276107  ...  0.323232  1.0\n",
              "Triceps skin thickness            768.0  0.111882  ...  0.150414  1.0\n",
              "2 hour serum insulin mu U per ml  768.0  0.483620  ...  0.545455  1.0\n",
              "bmi                               768.0  0.194990  ...  0.258781  1.0\n",
              "pedigree diabetes function        768.0  0.410381  ...  0.506173  1.0\n",
              "age                               768.0  0.348958  ...  1.000000  1.0\n",
              "\n",
              "[8 rows x 8 columns]"
            ]
          },
          "metadata": {
            "tags": []
          },
          "execution_count": 18
        }
      ]
    },
    {
      "cell_type": "code",
      "metadata": {
        "colab": {
          "base_uri": "https://localhost:8080/",
          "height": 1000
        },
        "id": "0d8e29cd",
        "outputId": "93ad5be7-1b68-48b1-afac-976e773a79fc"
      },
      "source": [
        "#As a next step we decided to use seaborns pairplot function in order to see the relation of every pair of\n",
        "#variable in the dataset. The variable \"has diabetes\" was left out and instead used to seperate the \n",
        "#datapoints in every subplot into two groups by colour. \n",
        "sns.set()\n",
        "sns.pairplot(df_unscaled, hue = \"has diabetes\")"
      ],
      "id": "0d8e29cd",
      "execution_count": 19,
      "outputs": [
        {
          "output_type": "error",
          "ename": "KeyError",
          "evalue": "ignored",
          "traceback": [
            "\u001b[0;31m---------------------------------------------------------------------------\u001b[0m",
            "\u001b[0;31mKeyError\u001b[0m                                  Traceback (most recent call last)",
            "\u001b[0;32m/usr/local/lib/python3.7/dist-packages/pandas/core/indexes/base.py\u001b[0m in \u001b[0;36mget_loc\u001b[0;34m(self, key, method, tolerance)\u001b[0m\n\u001b[1;32m   2897\u001b[0m             \u001b[0;32mtry\u001b[0m\u001b[0;34m:\u001b[0m\u001b[0;34m\u001b[0m\u001b[0;34m\u001b[0m\u001b[0m\n\u001b[0;32m-> 2898\u001b[0;31m                 \u001b[0;32mreturn\u001b[0m \u001b[0mself\u001b[0m\u001b[0;34m.\u001b[0m\u001b[0m_engine\u001b[0m\u001b[0;34m.\u001b[0m\u001b[0mget_loc\u001b[0m\u001b[0;34m(\u001b[0m\u001b[0mcasted_key\u001b[0m\u001b[0;34m)\u001b[0m\u001b[0;34m\u001b[0m\u001b[0;34m\u001b[0m\u001b[0m\n\u001b[0m\u001b[1;32m   2899\u001b[0m             \u001b[0;32mexcept\u001b[0m \u001b[0mKeyError\u001b[0m \u001b[0;32mas\u001b[0m \u001b[0merr\u001b[0m\u001b[0;34m:\u001b[0m\u001b[0;34m\u001b[0m\u001b[0;34m\u001b[0m\u001b[0m\n",
            "\u001b[0;32mpandas/_libs/index.pyx\u001b[0m in \u001b[0;36mpandas._libs.index.IndexEngine.get_loc\u001b[0;34m()\u001b[0m\n",
            "\u001b[0;32mpandas/_libs/index.pyx\u001b[0m in \u001b[0;36mpandas._libs.index.IndexEngine.get_loc\u001b[0;34m()\u001b[0m\n",
            "\u001b[0;32mpandas/_libs/hashtable_class_helper.pxi\u001b[0m in \u001b[0;36mpandas._libs.hashtable.PyObjectHashTable.get_item\u001b[0;34m()\u001b[0m\n",
            "\u001b[0;32mpandas/_libs/hashtable_class_helper.pxi\u001b[0m in \u001b[0;36mpandas._libs.hashtable.PyObjectHashTable.get_item\u001b[0;34m()\u001b[0m\n",
            "\u001b[0;31mKeyError\u001b[0m: 'has diabetes'",
            "\nThe above exception was the direct cause of the following exception:\n",
            "\u001b[0;31mKeyError\u001b[0m                                  Traceback (most recent call last)",
            "\u001b[0;32m<ipython-input-19-da4d37c4a86d>\u001b[0m in \u001b[0;36m<module>\u001b[0;34m()\u001b[0m\n\u001b[1;32m      3\u001b[0m \u001b[0;31m#datapoints in every subplot into two groups by colour.\u001b[0m\u001b[0;34m\u001b[0m\u001b[0;34m\u001b[0m\u001b[0;34m\u001b[0m\u001b[0m\n\u001b[1;32m      4\u001b[0m \u001b[0msns\u001b[0m\u001b[0;34m.\u001b[0m\u001b[0mset\u001b[0m\u001b[0;34m(\u001b[0m\u001b[0;34m)\u001b[0m\u001b[0;34m\u001b[0m\u001b[0;34m\u001b[0m\u001b[0m\n\u001b[0;32m----> 5\u001b[0;31m \u001b[0msns\u001b[0m\u001b[0;34m.\u001b[0m\u001b[0mpairplot\u001b[0m\u001b[0;34m(\u001b[0m\u001b[0mdf_unscaled\u001b[0m\u001b[0;34m,\u001b[0m \u001b[0mhue\u001b[0m \u001b[0;34m=\u001b[0m \u001b[0;34m\"has diabetes\"\u001b[0m\u001b[0;34m)\u001b[0m\u001b[0;34m\u001b[0m\u001b[0;34m\u001b[0m\u001b[0m\n\u001b[0m",
            "\u001b[0;32m/usr/local/lib/python3.7/dist-packages/seaborn/_decorators.py\u001b[0m in \u001b[0;36minner_f\u001b[0;34m(*args, **kwargs)\u001b[0m\n\u001b[1;32m     44\u001b[0m             )\n\u001b[1;32m     45\u001b[0m         \u001b[0mkwargs\u001b[0m\u001b[0;34m.\u001b[0m\u001b[0mupdate\u001b[0m\u001b[0;34m(\u001b[0m\u001b[0;34m{\u001b[0m\u001b[0mk\u001b[0m\u001b[0;34m:\u001b[0m \u001b[0marg\u001b[0m \u001b[0;32mfor\u001b[0m \u001b[0mk\u001b[0m\u001b[0;34m,\u001b[0m \u001b[0marg\u001b[0m \u001b[0;32min\u001b[0m \u001b[0mzip\u001b[0m\u001b[0;34m(\u001b[0m\u001b[0msig\u001b[0m\u001b[0;34m.\u001b[0m\u001b[0mparameters\u001b[0m\u001b[0;34m,\u001b[0m \u001b[0margs\u001b[0m\u001b[0;34m)\u001b[0m\u001b[0;34m}\u001b[0m\u001b[0;34m)\u001b[0m\u001b[0;34m\u001b[0m\u001b[0;34m\u001b[0m\u001b[0m\n\u001b[0;32m---> 46\u001b[0;31m         \u001b[0;32mreturn\u001b[0m \u001b[0mf\u001b[0m\u001b[0;34m(\u001b[0m\u001b[0;34m**\u001b[0m\u001b[0mkwargs\u001b[0m\u001b[0;34m)\u001b[0m\u001b[0;34m\u001b[0m\u001b[0;34m\u001b[0m\u001b[0m\n\u001b[0m\u001b[1;32m     47\u001b[0m     \u001b[0;32mreturn\u001b[0m \u001b[0minner_f\u001b[0m\u001b[0;34m\u001b[0m\u001b[0;34m\u001b[0m\u001b[0m\n\u001b[1;32m     48\u001b[0m \u001b[0;34m\u001b[0m\u001b[0m\n",
            "\u001b[0;32m/usr/local/lib/python3.7/dist-packages/seaborn/axisgrid.py\u001b[0m in \u001b[0;36mpairplot\u001b[0;34m(data, hue, hue_order, palette, vars, x_vars, y_vars, kind, diag_kind, markers, height, aspect, corner, dropna, plot_kws, diag_kws, grid_kws, size)\u001b[0m\n\u001b[1;32m   1989\u001b[0m     grid = PairGrid(data, vars=vars, x_vars=x_vars, y_vars=y_vars, hue=hue,\n\u001b[1;32m   1990\u001b[0m                     \u001b[0mhue_order\u001b[0m\u001b[0;34m=\u001b[0m\u001b[0mhue_order\u001b[0m\u001b[0;34m,\u001b[0m \u001b[0mpalette\u001b[0m\u001b[0;34m=\u001b[0m\u001b[0mpalette\u001b[0m\u001b[0;34m,\u001b[0m \u001b[0mcorner\u001b[0m\u001b[0;34m=\u001b[0m\u001b[0mcorner\u001b[0m\u001b[0;34m,\u001b[0m\u001b[0;34m\u001b[0m\u001b[0;34m\u001b[0m\u001b[0m\n\u001b[0;32m-> 1991\u001b[0;31m                     height=height, aspect=aspect, dropna=dropna, **grid_kws)\n\u001b[0m\u001b[1;32m   1992\u001b[0m \u001b[0;34m\u001b[0m\u001b[0m\n\u001b[1;32m   1993\u001b[0m     \u001b[0;31m# Add the markers here as PairGrid has figured out how many levels of the\u001b[0m\u001b[0;34m\u001b[0m\u001b[0;34m\u001b[0m\u001b[0;34m\u001b[0m\u001b[0m\n",
            "\u001b[0;32m/usr/local/lib/python3.7/dist-packages/seaborn/_decorators.py\u001b[0m in \u001b[0;36minner_f\u001b[0;34m(*args, **kwargs)\u001b[0m\n\u001b[1;32m     44\u001b[0m             )\n\u001b[1;32m     45\u001b[0m         \u001b[0mkwargs\u001b[0m\u001b[0;34m.\u001b[0m\u001b[0mupdate\u001b[0m\u001b[0;34m(\u001b[0m\u001b[0;34m{\u001b[0m\u001b[0mk\u001b[0m\u001b[0;34m:\u001b[0m \u001b[0marg\u001b[0m \u001b[0;32mfor\u001b[0m \u001b[0mk\u001b[0m\u001b[0;34m,\u001b[0m \u001b[0marg\u001b[0m \u001b[0;32min\u001b[0m \u001b[0mzip\u001b[0m\u001b[0;34m(\u001b[0m\u001b[0msig\u001b[0m\u001b[0;34m.\u001b[0m\u001b[0mparameters\u001b[0m\u001b[0;34m,\u001b[0m \u001b[0margs\u001b[0m\u001b[0;34m)\u001b[0m\u001b[0;34m}\u001b[0m\u001b[0;34m)\u001b[0m\u001b[0;34m\u001b[0m\u001b[0;34m\u001b[0m\u001b[0m\n\u001b[0;32m---> 46\u001b[0;31m         \u001b[0;32mreturn\u001b[0m \u001b[0mf\u001b[0m\u001b[0;34m(\u001b[0m\u001b[0;34m**\u001b[0m\u001b[0mkwargs\u001b[0m\u001b[0;34m)\u001b[0m\u001b[0;34m\u001b[0m\u001b[0;34m\u001b[0m\u001b[0m\n\u001b[0m\u001b[1;32m     47\u001b[0m     \u001b[0;32mreturn\u001b[0m \u001b[0minner_f\u001b[0m\u001b[0;34m\u001b[0m\u001b[0;34m\u001b[0m\u001b[0m\n\u001b[1;32m     48\u001b[0m \u001b[0;34m\u001b[0m\u001b[0m\n",
            "\u001b[0;32m/usr/local/lib/python3.7/dist-packages/seaborn/axisgrid.py\u001b[0m in \u001b[0;36m__init__\u001b[0;34m(self, data, hue, hue_order, palette, hue_kws, vars, x_vars, y_vars, corner, diag_sharey, height, aspect, layout_pad, despine, dropna, size)\u001b[0m\n\u001b[1;32m   1227\u001b[0m             \u001b[0;31m# to the axes-level functions, while always handling legend creation.\u001b[0m\u001b[0;34m\u001b[0m\u001b[0;34m\u001b[0m\u001b[0;34m\u001b[0m\u001b[0m\n\u001b[1;32m   1228\u001b[0m             \u001b[0;31m# See GH2307\u001b[0m\u001b[0;34m\u001b[0m\u001b[0;34m\u001b[0m\u001b[0;34m\u001b[0m\u001b[0m\n\u001b[0;32m-> 1229\u001b[0;31m             \u001b[0mhue_names\u001b[0m \u001b[0;34m=\u001b[0m \u001b[0mhue_order\u001b[0m \u001b[0;34m=\u001b[0m \u001b[0mcategorical_order\u001b[0m\u001b[0;34m(\u001b[0m\u001b[0mdata\u001b[0m\u001b[0;34m[\u001b[0m\u001b[0mhue\u001b[0m\u001b[0;34m]\u001b[0m\u001b[0;34m,\u001b[0m \u001b[0mhue_order\u001b[0m\u001b[0;34m)\u001b[0m\u001b[0;34m\u001b[0m\u001b[0;34m\u001b[0m\u001b[0m\n\u001b[0m\u001b[1;32m   1230\u001b[0m             \u001b[0;32mif\u001b[0m \u001b[0mdropna\u001b[0m\u001b[0;34m:\u001b[0m\u001b[0;34m\u001b[0m\u001b[0;34m\u001b[0m\u001b[0m\n\u001b[1;32m   1231\u001b[0m                 \u001b[0;31m# Filter NA from the list of unique hue names\u001b[0m\u001b[0;34m\u001b[0m\u001b[0;34m\u001b[0m\u001b[0;34m\u001b[0m\u001b[0m\n",
            "\u001b[0;32m/usr/local/lib/python3.7/dist-packages/pandas/core/frame.py\u001b[0m in \u001b[0;36m__getitem__\u001b[0;34m(self, key)\u001b[0m\n\u001b[1;32m   2904\u001b[0m             \u001b[0;32mif\u001b[0m \u001b[0mself\u001b[0m\u001b[0;34m.\u001b[0m\u001b[0mcolumns\u001b[0m\u001b[0;34m.\u001b[0m\u001b[0mnlevels\u001b[0m \u001b[0;34m>\u001b[0m \u001b[0;36m1\u001b[0m\u001b[0;34m:\u001b[0m\u001b[0;34m\u001b[0m\u001b[0;34m\u001b[0m\u001b[0m\n\u001b[1;32m   2905\u001b[0m                 \u001b[0;32mreturn\u001b[0m \u001b[0mself\u001b[0m\u001b[0;34m.\u001b[0m\u001b[0m_getitem_multilevel\u001b[0m\u001b[0;34m(\u001b[0m\u001b[0mkey\u001b[0m\u001b[0;34m)\u001b[0m\u001b[0;34m\u001b[0m\u001b[0;34m\u001b[0m\u001b[0m\n\u001b[0;32m-> 2906\u001b[0;31m             \u001b[0mindexer\u001b[0m \u001b[0;34m=\u001b[0m \u001b[0mself\u001b[0m\u001b[0;34m.\u001b[0m\u001b[0mcolumns\u001b[0m\u001b[0;34m.\u001b[0m\u001b[0mget_loc\u001b[0m\u001b[0;34m(\u001b[0m\u001b[0mkey\u001b[0m\u001b[0;34m)\u001b[0m\u001b[0;34m\u001b[0m\u001b[0;34m\u001b[0m\u001b[0m\n\u001b[0m\u001b[1;32m   2907\u001b[0m             \u001b[0;32mif\u001b[0m \u001b[0mis_integer\u001b[0m\u001b[0;34m(\u001b[0m\u001b[0mindexer\u001b[0m\u001b[0;34m)\u001b[0m\u001b[0;34m:\u001b[0m\u001b[0;34m\u001b[0m\u001b[0;34m\u001b[0m\u001b[0m\n\u001b[1;32m   2908\u001b[0m                 \u001b[0mindexer\u001b[0m \u001b[0;34m=\u001b[0m \u001b[0;34m[\u001b[0m\u001b[0mindexer\u001b[0m\u001b[0;34m]\u001b[0m\u001b[0;34m\u001b[0m\u001b[0;34m\u001b[0m\u001b[0m\n",
            "\u001b[0;32m/usr/local/lib/python3.7/dist-packages/pandas/core/indexes/base.py\u001b[0m in \u001b[0;36mget_loc\u001b[0;34m(self, key, method, tolerance)\u001b[0m\n\u001b[1;32m   2898\u001b[0m                 \u001b[0;32mreturn\u001b[0m \u001b[0mself\u001b[0m\u001b[0;34m.\u001b[0m\u001b[0m_engine\u001b[0m\u001b[0;34m.\u001b[0m\u001b[0mget_loc\u001b[0m\u001b[0;34m(\u001b[0m\u001b[0mcasted_key\u001b[0m\u001b[0;34m)\u001b[0m\u001b[0;34m\u001b[0m\u001b[0;34m\u001b[0m\u001b[0m\n\u001b[1;32m   2899\u001b[0m             \u001b[0;32mexcept\u001b[0m \u001b[0mKeyError\u001b[0m \u001b[0;32mas\u001b[0m \u001b[0merr\u001b[0m\u001b[0;34m:\u001b[0m\u001b[0;34m\u001b[0m\u001b[0;34m\u001b[0m\u001b[0m\n\u001b[0;32m-> 2900\u001b[0;31m                 \u001b[0;32mraise\u001b[0m \u001b[0mKeyError\u001b[0m\u001b[0;34m(\u001b[0m\u001b[0mkey\u001b[0m\u001b[0;34m)\u001b[0m \u001b[0;32mfrom\u001b[0m \u001b[0merr\u001b[0m\u001b[0;34m\u001b[0m\u001b[0;34m\u001b[0m\u001b[0m\n\u001b[0m\u001b[1;32m   2901\u001b[0m \u001b[0;34m\u001b[0m\u001b[0m\n\u001b[1;32m   2902\u001b[0m         \u001b[0;32mif\u001b[0m \u001b[0mtolerance\u001b[0m \u001b[0;32mis\u001b[0m \u001b[0;32mnot\u001b[0m \u001b[0;32mNone\u001b[0m\u001b[0;34m:\u001b[0m\u001b[0;34m\u001b[0m\u001b[0;34m\u001b[0m\u001b[0m\n",
            "\u001b[0;31mKeyError\u001b[0m: 'has diabetes'"
          ]
        },
        {
          "output_type": "display_data",
          "data": {
            "image/png": "[encoded data removed]",
            "text/plain": [
              "<Figure size 1440x1440 with 64 Axes>"
            ]
          },
          "metadata": {
            "tags": []
          }
        }
      ]
    },
    {
      "cell_type": "code",
      "metadata": {
        "id": "9c66db4d"
      },
      "source": [
        "\n",
        "df2 = pd.melt(df, df.columns[-1], df.columns[:-1])\n",
        "g = sns.FacetGrid(df2, col=\"variable\", col_wrap=4, hue = \"has diabetes\")\n",
        "g = g.map(lambda y, **kw: plt.axvline(y.mean(), color = \"red\"), 'value') \n",
        "g.map(sns.kdeplot, \"value\", shade=True)\n",
        "g.add_legend()\n",
        "#legend = g.legend\n",
        "#labels = ['has diabetes', 'has no diabetes']\n",
        "#for t, l in zip(legend.texts, labels): t.set_text(l)"
      ],
      "id": "9c66db4d",
      "execution_count": null,
      "outputs": []
    },
    {
      "cell_type": "code",
      "metadata": {
        "id": "e0ec6ea7",
        "outputId": "c11e402a-cd37-45ab-cf42-c342a672fd44"
      },
      "source": [
        "#Since plotting in such high dimension becomes overcomplicated very fast, we decided to \n",
        "# do a few lower dimensional plots.\n",
        "fig, (ax1, ax2) = plt.subplots(2,3, figsize= (15,10))\n",
        "sns.boxplot(x='has diabetes', y='Age', data=df_unscaled, ax = ax1[0])\n",
        "sns.boxplot(x='has diabetes', y='BMI', data=df_unscaled, ax = ax1[1])\n",
        "sns.boxplot(x='has diabetes', y='Pregnancies', data=df_unscaled, ax = ax1[2])\n",
        "sns.boxplot(x='has diabetes', y='Blood pressure', data=df_unscaled, ax = ax2[0])\n",
        "sns.boxplot(x='has diabetes', y='Skin thickness', data=df_unscaled, ax = ax2[1])\n",
        "sns.boxplot(x='has diabetes', y='Plasma gluc conc', data=df_unscaled, ax = ax2[2])\n",
        "ax1[0].set_title(\"Age-Diabetes\" , fontsize = 20)\n",
        "ax1[1].set_title(\"BMI-Diabetes\" , fontsize = 20)\n",
        "ax1[2].set_title(\"Pregnancies-Diabetes\" , fontsize = 20)\n",
        "ax2[0].set_title(\"Blood Pressure-Diabetes\" , fontsize = 20)\n",
        "ax2[1].set_title(\"Skin Thickness-Diabetes\" , fontsize = 20)\n",
        "ax2[2].set_title(\"Plasma glucose conc. - Diabetes\", fontsize = 20)\n",
        "fig.tight_layout()\n",
        "\n",
        "fig.show()"
      ],
      "id": "e0ec6ea7",
      "execution_count": null,
      "outputs": [
        {
          "output_type": "stream",
          "text": [
            "C:\\Users\\fsele\\anaconda3\\envs\\scipy\\lib\\site-packages\\ipykernel_launcher.py:18: UserWarning: Matplotlib is currently using module://ipykernel.pylab.backend_inline, which is a non-GUI backend, so cannot show the figure.\n"
          ],
          "name": "stderr"
        },
        {
          "output_type": "display_data",
          "data": {
            "image/png": "[encoded data removed]",
            "text/plain": [
              "<Figure size 1080x720 with 6 Axes>"
            ]
          },
          "metadata": {
            "tags": []
          }
        }
      ]
    },
    {
      "cell_type": "code",
      "metadata": {
        "id": "4136d108-5d8d-4960-b3e8-ebb46383b7c3"
      },
      "source": [
        ""
      ],
      "id": "4136d108-5d8d-4960-b3e8-ebb46383b7c3",
      "execution_count": null,
      "outputs": []
    },
    {
      "cell_type": "markdown",
      "metadata": {
        "id": "f1cee68b-ff7c-4cce-9d79-bdcff303bca9"
      },
      "source": [
        "From our plots we now know how the data is distributed in the respective variable and we \n",
        "           "
      ],
      "id": "f1cee68b-ff7c-4cce-9d79-bdcff303bca9"
    },
    {
      "cell_type": "markdown",
      "metadata": {
        "id": "e66e006f-04c8-4eba-bb2f-473a035d4559"
      },
      "source": [
        "Now we have a sufficient idea about our data, so we can continue to prepare the data for our actual Keras model. \n",
        "Firstly, we split the data into input variables (X) and output variables (Y). The input variables contain the information upon which the output variable is supposed to be predicted.\n",
        "At the same time we split the data into 90% train and 10% test data "
      ],
      "id": "e66e006f-04c8-4eba-bb2f-473a035d4559"
    },
    {
      "cell_type": "code",
      "metadata": {
        "colab": {
          "base_uri": "https://localhost:8080/",
          "height": 357
        },
        "id": "d6964970",
        "outputId": "78b8a8e3-7645-40f9-beb3-6e5227cc9893"
      },
      "source": [
        "X_train = df.iloc[0:int(len(df) * 0.9), 0:8]\n",
        "X_test = df.iloc[int(len(df) * 0.9):, 0:8]\n",
        "y_train = df.iloc[0:int(len(df) * 0.9), 8]\n",
        "y_test = df.iloc[int(len(df) * 0.9):, 8]"
      ],
      "id": "d6964970",
      "execution_count": 46,
      "outputs": [
        {
          "output_type": "error",
          "ename": "IndexError",
          "evalue": "ignored",
          "traceback": [
            "\u001b[0;31m---------------------------------------------------------------------------\u001b[0m",
            "\u001b[0;31mIndexError\u001b[0m                                Traceback (most recent call last)",
            "\u001b[0;32m<ipython-input-46-a7050fcb0ea0>\u001b[0m in \u001b[0;36m<module>\u001b[0;34m()\u001b[0m\n\u001b[1;32m      1\u001b[0m \u001b[0mX_train\u001b[0m \u001b[0;34m=\u001b[0m \u001b[0mdf\u001b[0m\u001b[0;34m.\u001b[0m\u001b[0miloc\u001b[0m\u001b[0;34m[\u001b[0m\u001b[0;36m0\u001b[0m\u001b[0;34m:\u001b[0m\u001b[0mint\u001b[0m\u001b[0;34m(\u001b[0m\u001b[0mlen\u001b[0m\u001b[0;34m(\u001b[0m\u001b[0mdf\u001b[0m\u001b[0;34m)\u001b[0m \u001b[0;34m*\u001b[0m \u001b[0;36m0.9\u001b[0m\u001b[0;34m)\u001b[0m\u001b[0;34m,\u001b[0m \u001b[0;36m0\u001b[0m\u001b[0;34m:\u001b[0m\u001b[0;36m8\u001b[0m\u001b[0;34m]\u001b[0m\u001b[0;34m\u001b[0m\u001b[0;34m\u001b[0m\u001b[0m\n\u001b[1;32m      2\u001b[0m \u001b[0mX_test\u001b[0m \u001b[0;34m=\u001b[0m \u001b[0mdf\u001b[0m\u001b[0;34m.\u001b[0m\u001b[0miloc\u001b[0m\u001b[0;34m[\u001b[0m\u001b[0mint\u001b[0m\u001b[0;34m(\u001b[0m\u001b[0mlen\u001b[0m\u001b[0;34m(\u001b[0m\u001b[0mdf\u001b[0m\u001b[0;34m)\u001b[0m \u001b[0;34m*\u001b[0m \u001b[0;36m0.9\u001b[0m\u001b[0;34m)\u001b[0m\u001b[0;34m:\u001b[0m\u001b[0;34m,\u001b[0m \u001b[0;36m0\u001b[0m\u001b[0;34m:\u001b[0m\u001b[0;36m8\u001b[0m\u001b[0;34m]\u001b[0m\u001b[0;34m\u001b[0m\u001b[0;34m\u001b[0m\u001b[0m\n\u001b[0;32m----> 3\u001b[0;31m \u001b[0my_train\u001b[0m \u001b[0;34m=\u001b[0m \u001b[0mdf\u001b[0m\u001b[0;34m.\u001b[0m\u001b[0miloc\u001b[0m\u001b[0;34m[\u001b[0m\u001b[0;36m0\u001b[0m\u001b[0;34m:\u001b[0m\u001b[0mint\u001b[0m\u001b[0;34m(\u001b[0m\u001b[0mlen\u001b[0m\u001b[0;34m(\u001b[0m\u001b[0mdf\u001b[0m\u001b[0;34m)\u001b[0m \u001b[0;34m*\u001b[0m \u001b[0;36m0.9\u001b[0m\u001b[0;34m)\u001b[0m\u001b[0;34m,\u001b[0m \u001b[0;36m8\u001b[0m\u001b[0;34m]\u001b[0m\u001b[0;34m\u001b[0m\u001b[0;34m\u001b[0m\u001b[0m\n\u001b[0m\u001b[1;32m      4\u001b[0m \u001b[0my_test\u001b[0m \u001b[0;34m=\u001b[0m \u001b[0mdf\u001b[0m\u001b[0;34m.\u001b[0m\u001b[0miloc\u001b[0m\u001b[0;34m[\u001b[0m\u001b[0mint\u001b[0m\u001b[0;34m(\u001b[0m\u001b[0mlen\u001b[0m\u001b[0;34m(\u001b[0m\u001b[0mdf\u001b[0m\u001b[0;34m)\u001b[0m \u001b[0;34m*\u001b[0m \u001b[0;36m0.9\u001b[0m\u001b[0;34m)\u001b[0m\u001b[0;34m:\u001b[0m\u001b[0;34m,\u001b[0m \u001b[0;36m8\u001b[0m\u001b[0;34m]\u001b[0m\u001b[0;34m\u001b[0m\u001b[0;34m\u001b[0m\u001b[0m\n",
            "\u001b[0;32m/usr/local/lib/python3.7/dist-packages/pandas/core/indexing.py\u001b[0m in \u001b[0;36m__getitem__\u001b[0;34m(self, key)\u001b[0m\n\u001b[1;32m    871\u001b[0m                     \u001b[0;31m# AttributeError for IntervalTree get_value\u001b[0m\u001b[0;34m\u001b[0m\u001b[0;34m\u001b[0m\u001b[0;34m\u001b[0m\u001b[0m\n\u001b[1;32m    872\u001b[0m                     \u001b[0;32mpass\u001b[0m\u001b[0;34m\u001b[0m\u001b[0;34m\u001b[0m\u001b[0m\n\u001b[0;32m--> 873\u001b[0;31m             \u001b[0;32mreturn\u001b[0m \u001b[0mself\u001b[0m\u001b[0;34m.\u001b[0m\u001b[0m_getitem_tuple\u001b[0m\u001b[0;34m(\u001b[0m\u001b[0mkey\u001b[0m\u001b[0;34m)\u001b[0m\u001b[0;34m\u001b[0m\u001b[0;34m\u001b[0m\u001b[0m\n\u001b[0m\u001b[1;32m    874\u001b[0m         \u001b[0;32melse\u001b[0m\u001b[0;34m:\u001b[0m\u001b[0;34m\u001b[0m\u001b[0;34m\u001b[0m\u001b[0m\n\u001b[1;32m    875\u001b[0m             \u001b[0;31m# we by definition only have the 0th axis\u001b[0m\u001b[0;34m\u001b[0m\u001b[0;34m\u001b[0m\u001b[0;34m\u001b[0m\u001b[0m\n",
            "\u001b[0;32m/usr/local/lib/python3.7/dist-packages/pandas/core/indexing.py\u001b[0m in \u001b[0;36m_getitem_tuple\u001b[0;34m(self, tup)\u001b[0m\n\u001b[1;32m   1441\u001b[0m     \u001b[0;32mdef\u001b[0m \u001b[0m_getitem_tuple\u001b[0m\u001b[0;34m(\u001b[0m\u001b[0mself\u001b[0m\u001b[0;34m,\u001b[0m \u001b[0mtup\u001b[0m\u001b[0;34m:\u001b[0m \u001b[0mTuple\u001b[0m\u001b[0;34m)\u001b[0m\u001b[0;34m:\u001b[0m\u001b[0;34m\u001b[0m\u001b[0;34m\u001b[0m\u001b[0m\n\u001b[1;32m   1442\u001b[0m \u001b[0;34m\u001b[0m\u001b[0m\n\u001b[0;32m-> 1443\u001b[0;31m         \u001b[0mself\u001b[0m\u001b[0;34m.\u001b[0m\u001b[0m_has_valid_tuple\u001b[0m\u001b[0;34m(\u001b[0m\u001b[0mtup\u001b[0m\u001b[0;34m)\u001b[0m\u001b[0;34m\u001b[0m\u001b[0;34m\u001b[0m\u001b[0m\n\u001b[0m\u001b[1;32m   1444\u001b[0m         \u001b[0;32mtry\u001b[0m\u001b[0;34m:\u001b[0m\u001b[0;34m\u001b[0m\u001b[0;34m\u001b[0m\u001b[0m\n\u001b[1;32m   1445\u001b[0m             \u001b[0;32mreturn\u001b[0m \u001b[0mself\u001b[0m\u001b[0;34m.\u001b[0m\u001b[0m_getitem_lowerdim\u001b[0m\u001b[0;34m(\u001b[0m\u001b[0mtup\u001b[0m\u001b[0;34m)\u001b[0m\u001b[0;34m\u001b[0m\u001b[0;34m\u001b[0m\u001b[0m\n",
            "\u001b[0;32m/usr/local/lib/python3.7/dist-packages/pandas/core/indexing.py\u001b[0m in \u001b[0;36m_has_valid_tuple\u001b[0;34m(self, key)\u001b[0m\n\u001b[1;32m    700\u001b[0m                 \u001b[0;32mraise\u001b[0m \u001b[0mIndexingError\u001b[0m\u001b[0;34m(\u001b[0m\u001b[0;34m\"Too many indexers\"\u001b[0m\u001b[0;34m)\u001b[0m\u001b[0;34m\u001b[0m\u001b[0;34m\u001b[0m\u001b[0m\n\u001b[1;32m    701\u001b[0m             \u001b[0;32mtry\u001b[0m\u001b[0;34m:\u001b[0m\u001b[0;34m\u001b[0m\u001b[0;34m\u001b[0m\u001b[0m\n\u001b[0;32m--> 702\u001b[0;31m                 \u001b[0mself\u001b[0m\u001b[0;34m.\u001b[0m\u001b[0m_validate_key\u001b[0m\u001b[0;34m(\u001b[0m\u001b[0mk\u001b[0m\u001b[0;34m,\u001b[0m \u001b[0mi\u001b[0m\u001b[0;34m)\u001b[0m\u001b[0;34m\u001b[0m\u001b[0;34m\u001b[0m\u001b[0m\n\u001b[0m\u001b[1;32m    703\u001b[0m             \u001b[0;32mexcept\u001b[0m \u001b[0mValueError\u001b[0m \u001b[0;32mas\u001b[0m \u001b[0merr\u001b[0m\u001b[0;34m:\u001b[0m\u001b[0;34m\u001b[0m\u001b[0;34m\u001b[0m\u001b[0m\n\u001b[1;32m    704\u001b[0m                 raise ValueError(\n",
            "\u001b[0;32m/usr/local/lib/python3.7/dist-packages/pandas/core/indexing.py\u001b[0m in \u001b[0;36m_validate_key\u001b[0;34m(self, key, axis)\u001b[0m\n\u001b[1;32m   1350\u001b[0m             \u001b[0;32mreturn\u001b[0m\u001b[0;34m\u001b[0m\u001b[0;34m\u001b[0m\u001b[0m\n\u001b[1;32m   1351\u001b[0m         \u001b[0;32melif\u001b[0m \u001b[0mis_integer\u001b[0m\u001b[0;34m(\u001b[0m\u001b[0mkey\u001b[0m\u001b[0;34m)\u001b[0m\u001b[0;34m:\u001b[0m\u001b[0;34m\u001b[0m\u001b[0;34m\u001b[0m\u001b[0m\n\u001b[0;32m-> 1352\u001b[0;31m             \u001b[0mself\u001b[0m\u001b[0;34m.\u001b[0m\u001b[0m_validate_integer\u001b[0m\u001b[0;34m(\u001b[0m\u001b[0mkey\u001b[0m\u001b[0;34m,\u001b[0m \u001b[0maxis\u001b[0m\u001b[0;34m)\u001b[0m\u001b[0;34m\u001b[0m\u001b[0;34m\u001b[0m\u001b[0m\n\u001b[0m\u001b[1;32m   1353\u001b[0m         \u001b[0;32melif\u001b[0m \u001b[0misinstance\u001b[0m\u001b[0;34m(\u001b[0m\u001b[0mkey\u001b[0m\u001b[0;34m,\u001b[0m \u001b[0mtuple\u001b[0m\u001b[0;34m)\u001b[0m\u001b[0;34m:\u001b[0m\u001b[0;34m\u001b[0m\u001b[0;34m\u001b[0m\u001b[0m\n\u001b[1;32m   1354\u001b[0m             \u001b[0;31m# a tuple should already have been caught by this point\u001b[0m\u001b[0;34m\u001b[0m\u001b[0;34m\u001b[0m\u001b[0;34m\u001b[0m\u001b[0m\n",
            "\u001b[0;32m/usr/local/lib/python3.7/dist-packages/pandas/core/indexing.py\u001b[0m in \u001b[0;36m_validate_integer\u001b[0;34m(self, key, axis)\u001b[0m\n\u001b[1;32m   1435\u001b[0m         \u001b[0mlen_axis\u001b[0m \u001b[0;34m=\u001b[0m \u001b[0mlen\u001b[0m\u001b[0;34m(\u001b[0m\u001b[0mself\u001b[0m\u001b[0;34m.\u001b[0m\u001b[0mobj\u001b[0m\u001b[0;34m.\u001b[0m\u001b[0m_get_axis\u001b[0m\u001b[0;34m(\u001b[0m\u001b[0maxis\u001b[0m\u001b[0;34m)\u001b[0m\u001b[0;34m)\u001b[0m\u001b[0;34m\u001b[0m\u001b[0;34m\u001b[0m\u001b[0m\n\u001b[1;32m   1436\u001b[0m         \u001b[0;32mif\u001b[0m \u001b[0mkey\u001b[0m \u001b[0;34m>=\u001b[0m \u001b[0mlen_axis\u001b[0m \u001b[0;32mor\u001b[0m \u001b[0mkey\u001b[0m \u001b[0;34m<\u001b[0m \u001b[0;34m-\u001b[0m\u001b[0mlen_axis\u001b[0m\u001b[0;34m:\u001b[0m\u001b[0;34m\u001b[0m\u001b[0;34m\u001b[0m\u001b[0m\n\u001b[0;32m-> 1437\u001b[0;31m             \u001b[0;32mraise\u001b[0m \u001b[0mIndexError\u001b[0m\u001b[0;34m(\u001b[0m\u001b[0;34m\"single positional indexer is out-of-bounds\"\u001b[0m\u001b[0;34m)\u001b[0m\u001b[0;34m\u001b[0m\u001b[0;34m\u001b[0m\u001b[0m\n\u001b[0m\u001b[1;32m   1438\u001b[0m \u001b[0;34m\u001b[0m\u001b[0m\n\u001b[1;32m   1439\u001b[0m     \u001b[0;31m# -------------------------------------------------------------------\u001b[0m\u001b[0;34m\u001b[0m\u001b[0;34m\u001b[0m\u001b[0;34m\u001b[0m\u001b[0m\n",
            "\u001b[0;31mIndexError\u001b[0m: single positional indexer is out-of-bounds"
          ]
        }
      ]
    },
    {
      "cell_type": "code",
      "metadata": {
        "id": "92a9039d",
        "outputId": "4311de0a-24d7-4c81-89b5-4270abb5e2e5"
      },
      "source": [
        "len(X_train)"
      ],
      "id": "92a9039d",
      "execution_count": null,
      "outputs": [
        {
          "output_type": "execute_result",
          "data": {
            "text/plain": [
              "691"
            ]
          },
          "metadata": {
            "tags": []
          },
          "execution_count": 16
        }
      ]
    },
    {
      "cell_type": "code",
      "metadata": {
        "id": "bf3dbadb"
      },
      "source": [
        "train_mean = X_train.mean()\n",
        "train_std = X_train.std()\n",
        "\n",
        "train_df = (X_train - train_mean) / train_std\n",
        "test_df = (X_test - train_mean) / train_std"
      ],
      "id": "bf3dbadb",
      "execution_count": null,
      "outputs": []
    },
    {
      "cell_type": "code",
      "metadata": {
        "id": "f9d38e04",
        "outputId": "631b39d3-55a7-4995-a289-afb558ac2b28"
      },
      "source": [
        "df"
      ],
      "id": "f9d38e04",
      "execution_count": null,
      "outputs": [
        {
          "output_type": "execute_result",
          "data": {
            "text/html": [
              "<div>\n",
              "<style scoped>\n",
              "    .dataframe tbody tr th:only-of-type {\n",
              "        vertical-align: middle;\n",
              "    }\n",
              "\n",
              "    .dataframe tbody tr th {\n",
              "        vertical-align: top;\n",
              "    }\n",
              "\n",
              "    .dataframe thead th {\n",
              "        text-align: right;\n",
              "    }\n",
              "</style>\n",
              "<table border=\"1\" class=\"dataframe\">\n",
              "  <thead>\n",
              "    <tr style=\"text-align: right;\">\n",
              "      <th></th>\n",
              "      <th>Pregnancies</th>\n",
              "      <th>Plasma gluc conc</th>\n",
              "      <th>Blood pressure</th>\n",
              "      <th>Skin thickness</th>\n",
              "      <th>Serum-insulin</th>\n",
              "      <th>BMI</th>\n",
              "      <th>Diabetis pedigree func</th>\n",
              "      <th>Age</th>\n",
              "      <th>has diabetes</th>\n",
              "    </tr>\n",
              "  </thead>\n",
              "  <tbody>\n",
              "    <tr>\n",
              "      <th>0</th>\n",
              "      <td>0.352941</td>\n",
              "      <td>0.743719</td>\n",
              "      <td>0.590164</td>\n",
              "      <td>0.353535</td>\n",
              "      <td>0.036052</td>\n",
              "      <td>0.500745</td>\n",
              "      <td>0.259091</td>\n",
              "      <td>0.617284</td>\n",
              "      <td>1.0</td>\n",
              "    </tr>\n",
              "    <tr>\n",
              "      <th>1</th>\n",
              "      <td>0.058824</td>\n",
              "      <td>0.427136</td>\n",
              "      <td>0.540984</td>\n",
              "      <td>0.292929</td>\n",
              "      <td>0.036052</td>\n",
              "      <td>0.396423</td>\n",
              "      <td>0.145041</td>\n",
              "      <td>0.382716</td>\n",
              "      <td>0.0</td>\n",
              "    </tr>\n",
              "    <tr>\n",
              "      <th>2</th>\n",
              "      <td>0.470588</td>\n",
              "      <td>0.919598</td>\n",
              "      <td>0.524590</td>\n",
              "      <td>0.232323</td>\n",
              "      <td>0.036052</td>\n",
              "      <td>0.347243</td>\n",
              "      <td>0.277686</td>\n",
              "      <td>0.395062</td>\n",
              "      <td>1.0</td>\n",
              "    </tr>\n",
              "    <tr>\n",
              "      <th>3</th>\n",
              "      <td>0.058824</td>\n",
              "      <td>0.447236</td>\n",
              "      <td>0.540984</td>\n",
              "      <td>0.232323</td>\n",
              "      <td>0.111111</td>\n",
              "      <td>0.418778</td>\n",
              "      <td>0.069008</td>\n",
              "      <td>0.259259</td>\n",
              "      <td>0.0</td>\n",
              "    </tr>\n",
              "    <tr>\n",
              "      <th>4</th>\n",
              "      <td>0.000000</td>\n",
              "      <td>0.688442</td>\n",
              "      <td>0.327869</td>\n",
              "      <td>0.353535</td>\n",
              "      <td>0.198582</td>\n",
              "      <td>0.642325</td>\n",
              "      <td>0.945455</td>\n",
              "      <td>0.407407</td>\n",
              "      <td>1.0</td>\n",
              "    </tr>\n",
              "    <tr>\n",
              "      <th>...</th>\n",
              "      <td>...</td>\n",
              "      <td>...</td>\n",
              "      <td>...</td>\n",
              "      <td>...</td>\n",
              "      <td>...</td>\n",
              "      <td>...</td>\n",
              "      <td>...</td>\n",
              "      <td>...</td>\n",
              "      <td>...</td>\n",
              "    </tr>\n",
              "    <tr>\n",
              "      <th>763</th>\n",
              "      <td>0.588235</td>\n",
              "      <td>0.507538</td>\n",
              "      <td>0.622951</td>\n",
              "      <td>0.484848</td>\n",
              "      <td>0.212766</td>\n",
              "      <td>0.490313</td>\n",
              "      <td>0.070661</td>\n",
              "      <td>0.777778</td>\n",
              "      <td>0.0</td>\n",
              "    </tr>\n",
              "    <tr>\n",
              "      <th>764</th>\n",
              "      <td>0.117647</td>\n",
              "      <td>0.613065</td>\n",
              "      <td>0.573770</td>\n",
              "      <td>0.272727</td>\n",
              "      <td>0.036052</td>\n",
              "      <td>0.548435</td>\n",
              "      <td>0.140496</td>\n",
              "      <td>0.333333</td>\n",
              "      <td>0.0</td>\n",
              "    </tr>\n",
              "    <tr>\n",
              "      <th>765</th>\n",
              "      <td>0.294118</td>\n",
              "      <td>0.608040</td>\n",
              "      <td>0.590164</td>\n",
              "      <td>0.232323</td>\n",
              "      <td>0.132388</td>\n",
              "      <td>0.390462</td>\n",
              "      <td>0.101240</td>\n",
              "      <td>0.370370</td>\n",
              "      <td>0.0</td>\n",
              "    </tr>\n",
              "    <tr>\n",
              "      <th>766</th>\n",
              "      <td>0.058824</td>\n",
              "      <td>0.633166</td>\n",
              "      <td>0.491803</td>\n",
              "      <td>0.232323</td>\n",
              "      <td>0.036052</td>\n",
              "      <td>0.448584</td>\n",
              "      <td>0.144215</td>\n",
              "      <td>0.580247</td>\n",
              "      <td>1.0</td>\n",
              "    </tr>\n",
              "    <tr>\n",
              "      <th>767</th>\n",
              "      <td>0.058824</td>\n",
              "      <td>0.467337</td>\n",
              "      <td>0.573770</td>\n",
              "      <td>0.313131</td>\n",
              "      <td>0.036052</td>\n",
              "      <td>0.453055</td>\n",
              "      <td>0.130165</td>\n",
              "      <td>0.283951</td>\n",
              "      <td>0.0</td>\n",
              "    </tr>\n",
              "  </tbody>\n",
              "</table>\n",
              "<p>768 rows × 9 columns</p>\n",
              "</div>"
            ],
            "text/plain": [
              "     Pregnancies  Plasma gluc conc  Blood pressure  Skin thickness  \\\n",
              "0       0.352941          0.743719        0.590164        0.353535   \n",
              "1       0.058824          0.427136        0.540984        0.292929   \n",
              "2       0.470588          0.919598        0.524590        0.232323   \n",
              "3       0.058824          0.447236        0.540984        0.232323   \n",
              "4       0.000000          0.688442        0.327869        0.353535   \n",
              "..           ...               ...             ...             ...   \n",
              "763     0.588235          0.507538        0.622951        0.484848   \n",
              "764     0.117647          0.613065        0.573770        0.272727   \n",
              "765     0.294118          0.608040        0.590164        0.232323   \n",
              "766     0.058824          0.633166        0.491803        0.232323   \n",
              "767     0.058824          0.467337        0.573770        0.313131   \n",
              "\n",
              "     Serum-insulin       BMI  Diabetis pedigree func       Age  has diabetes  \n",
              "0         0.036052  0.500745                0.259091  0.617284           1.0  \n",
              "1         0.036052  0.396423                0.145041  0.382716           0.0  \n",
              "2         0.036052  0.347243                0.277686  0.395062           1.0  \n",
              "3         0.111111  0.418778                0.069008  0.259259           0.0  \n",
              "4         0.198582  0.642325                0.945455  0.407407           1.0  \n",
              "..             ...       ...                     ...       ...           ...  \n",
              "763       0.212766  0.490313                0.070661  0.777778           0.0  \n",
              "764       0.036052  0.548435                0.140496  0.333333           0.0  \n",
              "765       0.132388  0.390462                0.101240  0.370370           0.0  \n",
              "766       0.036052  0.448584                0.144215  0.580247           1.0  \n",
              "767       0.036052  0.453055                0.130165  0.283951           0.0  \n",
              "\n",
              "[768 rows x 9 columns]"
            ]
          },
          "metadata": {
            "tags": []
          },
          "execution_count": 18
        }
      ]
    },
    {
      "cell_type": "code",
      "metadata": {
        "id": "07f2902b",
        "outputId": "e73830a8-5b59-4c39-acf2-c1c6b1ea8573"
      },
      "source": [
        "#df_std = (df - train_mean) / train_std\n",
        "df_std = df.melt(var_name='Column', value_name='Normalized')\n",
        "plt.figure(figsize=(16, 6))\n",
        "ax = sns.violinplot(x='Column', y='Normalized', data=df_std[df_std[\"Column\"] != 4])\n",
        "#_ = ax.set_xticklabels(dataset.keys(), rotation=90)"
      ],
      "id": "07f2902b",
      "execution_count": null,
      "outputs": [
        {
          "output_type": "display_data",
          "data": {
            "image/png": "[encoded data removed]",
            "text/plain": [
              "<Figure size 1152x432 with 1 Axes>"
            ]
          },
          "metadata": {
            "tags": []
          }
        }
      ]
    },
    {
      "cell_type": "markdown",
      "metadata": {
        "id": "k7mielnbCFvN"
      },
      "source": [
        "# **Correlation**\n",
        "\n",
        "In the following section I will check the correlation between the features to see which features are relevant."
      ],
      "id": "k7mielnbCFvN"
    },
    {
      "cell_type": "code",
      "metadata": {
        "colab": {
          "base_uri": "https://localhost:8080/",
          "height": 328
        },
        "id": "DvGEpPDZCHSK",
        "outputId": "bfbbfbc4-c596-44b3-8672-312dcf6bb0fa"
      },
      "source": [
        "# load the dataset again\n",
        "dataset = pd.read_csv('https://raw.githubusercontent.com/MagMueller/BasicPython/main/pima-indians-diabetes.csv', delimiter=',', names=[\"Number of pregnancies\", \"Plasma glucose\", \"mm Hg blood press.\", \"Triceps skin thickness\", \"2 hour serum insulin mu U per ml\", \"bmi\", \"pedigree diabetes function\", \"age\", \"result\"])\n",
        "# assert no empty data\n",
        "assert(dataset.isnull().values.any() == False)\n",
        "\n",
        "dataset.corr()"
      ],
      "id": "DvGEpPDZCHSK",
      "execution_count": 26,
      "outputs": [
        {
          "output_type": "execute_result",
          "data": {
            "text/html": [
              "<div>\n",
              "<style scoped>\n",
              "    .dataframe tbody tr th:only-of-type {\n",
              "        vertical-align: middle;\n",
              "    }\n",
              "\n",
              "    .dataframe tbody tr th {\n",
              "        vertical-align: top;\n",
              "    }\n",
              "\n",
              "    .dataframe thead th {\n",
              "        text-align: right;\n",
              "    }\n",
              "</style>\n",
              "<table border=\"1\" class=\"dataframe\">\n",
              "  <thead>\n",
              "    <tr style=\"text-align: right;\">\n",
              "      <th></th>\n",
              "      <th>Number of pregnancies</th>\n",
              "      <th>Plasma glucose</th>\n",
              "      <th>mm Hg blood press.</th>\n",
              "      <th>Triceps skin thickness</th>\n",
              "      <th>2 hour serum insulin mu U per ml</th>\n",
              "      <th>bmi</th>\n",
              "      <th>pedigree diabetes function</th>\n",
              "      <th>age</th>\n",
              "      <th>result</th>\n",
              "    </tr>\n",
              "  </thead>\n",
              "  <tbody>\n",
              "    <tr>\n",
              "      <th>Number of pregnancies</th>\n",
              "      <td>1.000000</td>\n",
              "      <td>0.129459</td>\n",
              "      <td>0.141282</td>\n",
              "      <td>-0.081672</td>\n",
              "      <td>-0.073535</td>\n",
              "      <td>0.017683</td>\n",
              "      <td>-0.033523</td>\n",
              "      <td>0.544341</td>\n",
              "      <td>0.221898</td>\n",
              "    </tr>\n",
              "    <tr>\n",
              "      <th>Plasma glucose</th>\n",
              "      <td>0.129459</td>\n",
              "      <td>1.000000</td>\n",
              "      <td>0.152590</td>\n",
              "      <td>0.057328</td>\n",
              "      <td>0.331357</td>\n",
              "      <td>0.221071</td>\n",
              "      <td>0.137337</td>\n",
              "      <td>0.263514</td>\n",
              "      <td>0.466581</td>\n",
              "    </tr>\n",
              "    <tr>\n",
              "      <th>mm Hg blood press.</th>\n",
              "      <td>0.141282</td>\n",
              "      <td>0.152590</td>\n",
              "      <td>1.000000</td>\n",
              "      <td>0.207371</td>\n",
              "      <td>0.088933</td>\n",
              "      <td>0.281805</td>\n",
              "      <td>0.041265</td>\n",
              "      <td>0.239528</td>\n",
              "      <td>0.065068</td>\n",
              "    </tr>\n",
              "    <tr>\n",
              "      <th>Triceps skin thickness</th>\n",
              "      <td>-0.081672</td>\n",
              "      <td>0.057328</td>\n",
              "      <td>0.207371</td>\n",
              "      <td>1.000000</td>\n",
              "      <td>0.436783</td>\n",
              "      <td>0.392573</td>\n",
              "      <td>0.183928</td>\n",
              "      <td>-0.113970</td>\n",
              "      <td>0.074752</td>\n",
              "    </tr>\n",
              "    <tr>\n",
              "      <th>2 hour serum insulin mu U per ml</th>\n",
              "      <td>-0.073535</td>\n",
              "      <td>0.331357</td>\n",
              "      <td>0.088933</td>\n",
              "      <td>0.436783</td>\n",
              "      <td>1.000000</td>\n",
              "      <td>0.197859</td>\n",
              "      <td>0.185071</td>\n",
              "      <td>-0.042163</td>\n",
              "      <td>0.130548</td>\n",
              "    </tr>\n",
              "    <tr>\n",
              "      <th>bmi</th>\n",
              "      <td>0.017683</td>\n",
              "      <td>0.221071</td>\n",
              "      <td>0.281805</td>\n",
              "      <td>0.392573</td>\n",
              "      <td>0.197859</td>\n",
              "      <td>1.000000</td>\n",
              "      <td>0.140647</td>\n",
              "      <td>0.036242</td>\n",
              "      <td>0.292695</td>\n",
              "    </tr>\n",
              "    <tr>\n",
              "      <th>pedigree diabetes function</th>\n",
              "      <td>-0.033523</td>\n",
              "      <td>0.137337</td>\n",
              "      <td>0.041265</td>\n",
              "      <td>0.183928</td>\n",
              "      <td>0.185071</td>\n",
              "      <td>0.140647</td>\n",
              "      <td>1.000000</td>\n",
              "      <td>0.033561</td>\n",
              "      <td>0.173844</td>\n",
              "    </tr>\n",
              "    <tr>\n",
              "      <th>age</th>\n",
              "      <td>0.544341</td>\n",
              "      <td>0.263514</td>\n",
              "      <td>0.239528</td>\n",
              "      <td>-0.113970</td>\n",
              "      <td>-0.042163</td>\n",
              "      <td>0.036242</td>\n",
              "      <td>0.033561</td>\n",
              "      <td>1.000000</td>\n",
              "      <td>0.238356</td>\n",
              "    </tr>\n",
              "    <tr>\n",
              "      <th>result</th>\n",
              "      <td>0.221898</td>\n",
              "      <td>0.466581</td>\n",
              "      <td>0.065068</td>\n",
              "      <td>0.074752</td>\n",
              "      <td>0.130548</td>\n",
              "      <td>0.292695</td>\n",
              "      <td>0.173844</td>\n",
              "      <td>0.238356</td>\n",
              "      <td>1.000000</td>\n",
              "    </tr>\n",
              "  </tbody>\n",
              "</table>\n",
              "</div>"
            ],
            "text/plain": [
              "                                  Number of pregnancies  ...    result\n",
              "Number of pregnancies                          1.000000  ...  0.221898\n",
              "Plasma glucose                                 0.129459  ...  0.466581\n",
              "mm Hg blood press.                             0.141282  ...  0.065068\n",
              "Triceps skin thickness                        -0.081672  ...  0.074752\n",
              "2 hour serum insulin mu U per ml              -0.073535  ...  0.130548\n",
              "bmi                                            0.017683  ...  0.292695\n",
              "pedigree diabetes function                    -0.033523  ...  0.173844\n",
              "age                                            0.544341  ...  0.238356\n",
              "result                                         0.221898  ...  1.000000\n",
              "\n",
              "[9 rows x 9 columns]"
            ]
          },
          "metadata": {
            "tags": []
          },
          "execution_count": 26
        }
      ]
    },
    {
      "cell_type": "markdown",
      "metadata": {
        "id": "w91kGsADCJIM"
      },
      "source": [
        "We see that age is strongly correlated to the number of pregnancies. This is an expected result, so we can think that indeed this data seems correct. Furthermore we can see that blood pressure is connected to the 2 hour insulin concentration. The triceps skin seems then connected to the blood pressure too but also to the number of  pregnancies. Last but not least the plasma glucose level seems to be heavily correlated to the outcome as well as a slight correlation of outcome and bmi. We identify no other strongly correlated factors. To use less data at this point we could deduce that we can stop using triceps skin thickness as it is connected to two other values used and also influenced by pregnancy, which in itself it slightly related to the outcome."
      ],
      "id": "w91kGsADCJIM"
    },
    {
      "cell_type": "markdown",
      "metadata": {
        "id": "46OfWj6LG7uY"
      },
      "source": [
        "# **Data preparation and splits**"
      ],
      "id": "46OfWj6LG7uY"
    },
    {
      "cell_type": "markdown",
      "metadata": {
        "id": "YfIrOrEsHGpJ"
      },
      "source": [
        "## Split data"
      ],
      "id": "YfIrOrEsHGpJ"
    },
    {
      "cell_type": "code",
      "metadata": {
        "colab": {
          "base_uri": "https://localhost:8080/"
        },
        "id": "8f1aada0",
        "outputId": "05a51d46-cc38-4c85-f7dc-02d3ef91cf48"
      },
      "source": [
        "features = (dataset.iloc[:,:8]).values\n",
        "target = (dataset.loc[:,'result']).values\n",
        "\n",
        "# dataset sizes\n",
        "testSize = 0.3 #%\n",
        "trainSize = 0.7 #%\n",
        "validSize = 0.5 #%\n",
        "\n",
        "# train test split https://stackoverflow.com/a/51006816/16329933\n",
        "x_train, x, y_train, y = train_test_split(features,target,train_size = trainSize)\n",
        "x_val, x_test, y_val, y_test = train_test_split(x,y,train_size=validSize)\n",
        "\n",
        "print(\"Sizes of\")\n",
        "print(\"x_train:    \",len(x_train))\n",
        "print(\"y_train:    \",len(y_train))\n",
        "print(\"x_val:      \",len(x_val))\n",
        "print(\"y_val:      \",len(y_val))\n",
        "print(\"x_test:     \",len(x_test))\n",
        "print(\"y_test:     \",len(y_test))"
      ],
      "id": "8f1aada0",
      "execution_count": 49,
      "outputs": [
        {
          "output_type": "stream",
          "text": [
            "Sizes of\n",
            "x_train:     537\n",
            "y_train:     537\n",
            "x_val:       115\n",
            "y_val:       115\n",
            "x_test:      116\n",
            "y_test:      116\n"
          ],
          "name": "stdout"
        }
      ]
    },
    {
      "cell_type": "markdown",
      "metadata": {
        "id": "ggXJUomHH1ts"
      },
      "source": [
        "Prepare the SVM data using a RobustScaler with modified quantiles."
      ],
      "id": "ggXJUomHH1ts"
    },
    {
      "cell_type": "code",
      "metadata": {
        "id": "PpLFVq1GH3KI"
      },
      "source": [
        "# modified RobustScaler, using 30,70 quantile ranges\n",
        "svm_scaler = sk.preprocessing.RobustScaler(with_centering=True,with_scaling=True,quantile_range=(30.0, 70.0),copy=True)\n",
        "x_train_svm = svm_scaler.fit_transform(x_train)\n",
        "x_val_svm  = svm_scaler.fit_transform(x_val)\n",
        "x_test_svm = svm_scaler.fit_transform(x_test)"
      ],
      "id": "PpLFVq1GH3KI",
      "execution_count": 64,
      "outputs": []
    },
    {
      "cell_type": "markdown",
      "metadata": {
        "id": "wAGvT6l0HLP6"
      },
      "source": [
        "## SVM"
      ],
      "id": "wAGvT6l0HLP6"
    },
    {
      "cell_type": "code",
      "metadata": {
        "colab": {
          "base_uri": "https://localhost:8080/"
        },
        "id": "H1gOvietHaZx",
        "outputId": "5a8a67b0-c75c-444a-fbec-78af40ae39aa"
      },
      "source": [
        "support_vector_classifier = sk.svm.SVC(kernel='rbf',class_weight = 'balanced',random_state = 1)\n",
        "\n",
        "# train the svm\n",
        "support_vector_classifier.fit(x_train_svm,y_train)\n",
        "\n",
        "# validate the classifier\n",
        "y_pred = support_vector_classifier.predict(x_val_svm)\n",
        "\n",
        "# print the accuracy and store it\n",
        "print(\"__ SVM METRICS __\")\n",
        "met = sk.metrics.accuracy_score(y_val, y_pred)\n",
        "print(\"Accuracy:\",met)\n",
        "\n",
        "accuracy_svm = met\n",
        "\n",
        "print(sk.metrics.classification_report(y_val, y_pred, digits=3, output_dict=False))"
      ],
      "id": "H1gOvietHaZx",
      "execution_count": 75,
      "outputs": [
        {
          "output_type": "stream",
          "text": [
            "__ SVM METRICS __\n",
            "Accuracy: 0.782608695652174\n",
            "              precision    recall  f1-score   support\n",
            "\n",
            "           0      0.871     0.792     0.830        77\n",
            "           1      0.644     0.763     0.699        38\n",
            "\n",
            "    accuracy                          0.783       115\n",
            "   macro avg      0.758     0.778     0.764       115\n",
            "weighted avg      0.796     0.783     0.787       115\n",
            "\n"
          ],
          "name": "stdout"
        }
      ]
    },
    {
      "cell_type": "markdown",
      "metadata": {
        "id": "5ee7111a"
      },
      "source": [
        "## Define the Keras model"
      ],
      "id": "5ee7111a"
    },
    {
      "cell_type": "code",
      "metadata": {
        "id": "834fc53f"
      },
      "source": [
        "# define the keras model\n",
        "model = Sequential()  #taken from tutorial\n",
        "model.add(Dense(8, input_dim=8, activation='relu')) #taken from tutorial\n",
        "model.add(Dense(16, activation='relu'))\n",
        "model.add(Dense(24, activation='relu'))\n",
        "model.add(Dense(4, activation='relu'))\n",
        "model.add(Dense(8, activation='relu'))\n",
        "model.add(Dense(1, activation='sigmoid')) #taken from tutorial"
      ],
      "id": "834fc53f",
      "execution_count": 9,
      "outputs": []
    },
    {
      "cell_type": "code",
      "metadata": {
        "colab": {
          "base_uri": "https://localhost:8080/"
        },
        "id": "43c39e3a",
        "outputId": "fa348c6f-bdb9-49ea-c059-0e7137c951a9"
      },
      "source": [
        "print(model.summary())"
      ],
      "id": "43c39e3a",
      "execution_count": 10,
      "outputs": [
        {
          "output_type": "stream",
          "text": [
            "Model: \"sequential\"\n",
            "_________________________________________________________________\n",
            "Layer (type)                 Output Shape              Param #   \n",
            "=================================================================\n",
            "dense (Dense)                (None, 8)                 72        \n",
            "_________________________________________________________________\n",
            "dense_1 (Dense)              (None, 16)                144       \n",
            "_________________________________________________________________\n",
            "dense_2 (Dense)              (None, 24)                408       \n",
            "_________________________________________________________________\n",
            "dense_3 (Dense)              (None, 4)                 100       \n",
            "_________________________________________________________________\n",
            "dense_4 (Dense)              (None, 8)                 40        \n",
            "_________________________________________________________________\n",
            "dense_5 (Dense)              (None, 1)                 9         \n",
            "=================================================================\n",
            "Total params: 773\n",
            "Trainable params: 773\n",
            "Non-trainable params: 0\n",
            "_________________________________________________________________\n",
            "None\n"
          ],
          "name": "stdout"
        }
      ]
    },
    {
      "cell_type": "code",
      "metadata": {
        "id": "7d2df9aa"
      },
      "source": [
        ""
      ],
      "id": "7d2df9aa",
      "execution_count": 10,
      "outputs": []
    },
    {
      "cell_type": "code",
      "metadata": {
        "colab": {
          "base_uri": "https://localhost:8080/",
          "height": 340
        },
        "id": "2dc9284e",
        "outputId": "b6762dc9-0c3a-4055-e258-eaf57a456d88"
      },
      "source": [
        "from keras.utils.vis_utils import plot_model\n",
        "#model = Sequential()\n",
        "#model.add(Dense(2, input_dim=1, activation='relu'))\n",
        "#model.add(Dense(1, activation='sigmoid'))\n",
        "plot_model(model, to_file='model_plot.png', show_shapes=True, show_layer_names=True)"
      ],
      "id": "2dc9284e",
      "execution_count": 11,
      "outputs": [
        {
          "output_type": "error",
          "ename": "AssertionError",
          "evalue": "ignored",
          "traceback": [
            "\u001b[0;31m---------------------------------------------------------------------------\u001b[0m",
            "\u001b[0;31mAssertionError\u001b[0m                            Traceback (most recent call last)",
            "\u001b[0;32m<ipython-input-11-e730f2ee8940>\u001b[0m in \u001b[0;36m<module>\u001b[0;34m()\u001b[0m\n\u001b[1;32m      3\u001b[0m \u001b[0;31m#model.add(Dense(2, input_dim=1, activation='relu'))\u001b[0m\u001b[0;34m\u001b[0m\u001b[0;34m\u001b[0m\u001b[0;34m\u001b[0m\u001b[0m\n\u001b[1;32m      4\u001b[0m \u001b[0;31m#model.add(Dense(1, activation='sigmoid'))\u001b[0m\u001b[0;34m\u001b[0m\u001b[0;34m\u001b[0m\u001b[0;34m\u001b[0m\u001b[0m\n\u001b[0;32m----> 5\u001b[0;31m \u001b[0mplot_model\u001b[0m\u001b[0;34m(\u001b[0m\u001b[0mmodel\u001b[0m\u001b[0;34m,\u001b[0m \u001b[0mto_file\u001b[0m\u001b[0;34m=\u001b[0m\u001b[0;34m'model_plot.png'\u001b[0m\u001b[0;34m,\u001b[0m \u001b[0mshow_shapes\u001b[0m\u001b[0;34m=\u001b[0m\u001b[0;32mTrue\u001b[0m\u001b[0;34m,\u001b[0m \u001b[0mshow_layer_names\u001b[0m\u001b[0;34m=\u001b[0m\u001b[0;32mTrue\u001b[0m\u001b[0;34m)\u001b[0m\u001b[0;34m\u001b[0m\u001b[0;34m\u001b[0m\u001b[0m\n\u001b[0m",
            "\u001b[0;32m/usr/local/lib/python3.7/dist-packages/keras/utils/vis_utils.py\u001b[0m in \u001b[0;36mplot_model\u001b[0;34m(model, to_file, show_shapes, show_dtype, show_layer_names, rankdir, expand_nested, dpi)\u001b[0m\n\u001b[1;32m    328\u001b[0m       \u001b[0mrankdir\u001b[0m\u001b[0;34m=\u001b[0m\u001b[0mrankdir\u001b[0m\u001b[0;34m,\u001b[0m\u001b[0;34m\u001b[0m\u001b[0;34m\u001b[0m\u001b[0m\n\u001b[1;32m    329\u001b[0m       \u001b[0mexpand_nested\u001b[0m\u001b[0;34m=\u001b[0m\u001b[0mexpand_nested\u001b[0m\u001b[0;34m,\u001b[0m\u001b[0;34m\u001b[0m\u001b[0;34m\u001b[0m\u001b[0m\n\u001b[0;32m--> 330\u001b[0;31m       dpi=dpi)\n\u001b[0m\u001b[1;32m    331\u001b[0m   \u001b[0mto_file\u001b[0m \u001b[0;34m=\u001b[0m \u001b[0mpath_to_string\u001b[0m\u001b[0;34m(\u001b[0m\u001b[0mto_file\u001b[0m\u001b[0;34m)\u001b[0m\u001b[0;34m\u001b[0m\u001b[0;34m\u001b[0m\u001b[0m\n\u001b[1;32m    332\u001b[0m   \u001b[0;32mif\u001b[0m \u001b[0mdot\u001b[0m \u001b[0;32mis\u001b[0m \u001b[0;32mNone\u001b[0m\u001b[0;34m:\u001b[0m\u001b[0;34m\u001b[0m\u001b[0;34m\u001b[0m\u001b[0m\n",
            "\u001b[0;32m/usr/local/lib/python3.7/dist-packages/keras/utils/vis_utils.py\u001b[0m in \u001b[0;36mmodel_to_dot\u001b[0;34m(model, show_shapes, show_dtype, show_layer_names, rankdir, expand_nested, dpi, subgraph)\u001b[0m\n\u001b[1;32m    237\u001b[0m           \u001b[0minbound_layer_id\u001b[0m \u001b[0;34m=\u001b[0m \u001b[0mstr\u001b[0m\u001b[0;34m(\u001b[0m\u001b[0mid\u001b[0m\u001b[0;34m(\u001b[0m\u001b[0minbound_layer\u001b[0m\u001b[0;34m)\u001b[0m\u001b[0;34m)\u001b[0m\u001b[0;34m\u001b[0m\u001b[0;34m\u001b[0m\u001b[0m\n\u001b[1;32m    238\u001b[0m           \u001b[0;32mif\u001b[0m \u001b[0;32mnot\u001b[0m \u001b[0mexpand_nested\u001b[0m\u001b[0;34m:\u001b[0m\u001b[0;34m\u001b[0m\u001b[0;34m\u001b[0m\u001b[0m\n\u001b[0;32m--> 239\u001b[0;31m             \u001b[0;32massert\u001b[0m \u001b[0mdot\u001b[0m\u001b[0;34m.\u001b[0m\u001b[0mget_node\u001b[0m\u001b[0;34m(\u001b[0m\u001b[0minbound_layer_id\u001b[0m\u001b[0;34m)\u001b[0m\u001b[0;34m\u001b[0m\u001b[0;34m\u001b[0m\u001b[0m\n\u001b[0m\u001b[1;32m    240\u001b[0m             \u001b[0;32massert\u001b[0m \u001b[0mdot\u001b[0m\u001b[0;34m.\u001b[0m\u001b[0mget_node\u001b[0m\u001b[0;34m(\u001b[0m\u001b[0mlayer_id\u001b[0m\u001b[0;34m)\u001b[0m\u001b[0;34m\u001b[0m\u001b[0;34m\u001b[0m\u001b[0m\n\u001b[1;32m    241\u001b[0m             \u001b[0madd_edge\u001b[0m\u001b[0;34m(\u001b[0m\u001b[0mdot\u001b[0m\u001b[0;34m,\u001b[0m \u001b[0minbound_layer_id\u001b[0m\u001b[0;34m,\u001b[0m \u001b[0mlayer_id\u001b[0m\u001b[0;34m)\u001b[0m\u001b[0;34m\u001b[0m\u001b[0;34m\u001b[0m\u001b[0m\n",
            "\u001b[0;31mAssertionError\u001b[0m: "
          ]
        }
      ]
    },
    {
      "cell_type": "code",
      "metadata": {
        "id": "b9ae6231"
      },
      "source": [
        "# compile the keras model\n",
        "model.compile(loss='binary_crossentropy', optimizer='adam', metrics=['accuracy'])"
      ],
      "id": "b9ae6231",
      "execution_count": null,
      "outputs": []
    },
    {
      "cell_type": "code",
      "metadata": {
        "id": "51fdf57d"
      },
      "source": [
        "# fit the keras model on the dataset\n",
        "history = model.fit(X_train, y_train, epochs=100, batch_size=10, validation_split=0.2, verbose=0) #"
      ],
      "id": "51fdf57d",
      "execution_count": null,
      "outputs": []
    },
    {
      "cell_type": "code",
      "metadata": {
        "id": "17e54867"
      },
      "source": [
        ""
      ],
      "id": "17e54867",
      "execution_count": null,
      "outputs": []
    },
    {
      "cell_type": "code",
      "metadata": {
        "id": "2f13b096"
      },
      "source": [
        "print(history.history.keys())"
      ],
      "id": "2f13b096",
      "execution_count": null,
      "outputs": []
    },
    {
      "cell_type": "code",
      "metadata": {
        "id": "7b1a8430"
      },
      "source": [
        "#  \"Accuracy\"\n",
        "plt.plot(history.history['accuracy'])\n",
        "plt.plot(history.history['val_accuracy'])\n",
        "plt.title('model accuracy')\n",
        "plt.ylabel('accuracy')\n",
        "plt.xlabel('epoch')\n",
        "plt.legend(['train', 'validation'], loc='upper left')\n",
        "plt.show()\n",
        "# \"Loss\"\n",
        "plt.plot(history.history['loss'])\n",
        "plt.plot(history.history['val_loss'])\n",
        "plt.title('model loss')\n",
        "plt.ylabel('loss')\n",
        "plt.xlabel('epoch')\n",
        "plt.legend(['train', 'validation'], loc='upper left')\n",
        "plt.show()"
      ],
      "id": "7b1a8430",
      "execution_count": null,
      "outputs": []
    },
    {
      "cell_type": "markdown",
      "metadata": {
        "id": "e104e7d2"
      },
      "source": [
        "## Evaluate"
      ],
      "id": "e104e7d2"
    },
    {
      "cell_type": "code",
      "metadata": {
        "id": "7a66035b",
        "outputId": "b2da0cde-e7a5-4ba3-cfa6-6a35a4ad4c57"
      },
      "source": [
        "# evaluate the keras model on train data\n",
        "_, accuracy = model.evaluate(X_train, y_train)\n",
        "print('Accuracy: %.2f' % (accuracy*100))"
      ],
      "id": "7a66035b",
      "execution_count": null,
      "outputs": [
        {
          "output_type": "stream",
          "text": [
            " 1/22 [>.............................] - ETA: 0s - loss: 0.6287 - accuracy: 0.6875WARNING:tensorflow:Callbacks method `on_test_batch_end` is slow compared to the batch time (batch time: 0.0000s vs `on_test_batch_end` time: 0.0010s). Check your callbacks.\n",
            "22/22 [==============================] - 0s 997us/step - loss: 0.4405 - accuracy: 0.7786\n",
            "Accuracy: 77.86\n"
          ],
          "name": "stdout"
        }
      ]
    },
    {
      "cell_type": "code",
      "metadata": {
        "scrolled": true,
        "id": "081f21e1",
        "outputId": "54d4e6a9-141d-41e0-cd36-d9fee370af33"
      },
      "source": [
        "# evaluate the keras model on test data\n",
        "_, accuracy = model.evaluate(X_test, y_test)\n",
        "print('Accuracy: %.2f' % (accuracy*100))"
      ],
      "id": "081f21e1",
      "execution_count": null,
      "outputs": [
        {
          "output_type": "stream",
          "text": [
            "3/3 [==============================] - 0s 1ms/step - loss: 0.4823 - accuracy: 0.7922\n",
            "Accuracy: 79.22\n"
          ],
          "name": "stdout"
        }
      ]
    },
    {
      "cell_type": "code",
      "metadata": {
        "id": "8f4f6d20"
      },
      "source": [
        "# make probability predictions with the model\n",
        "predictions = model.predict(X_test)\n",
        "# round predictions \n",
        "rounded = [round(x[0]) for x in predictions]"
      ],
      "id": "8f4f6d20",
      "execution_count": null,
      "outputs": []
    },
    {
      "cell_type": "code",
      "metadata": {
        "id": "6b65f480",
        "outputId": "d7689e20-062d-41d4-d2a6-862486373572"
      },
      "source": [
        "predictions[:10]"
      ],
      "id": "6b65f480",
      "execution_count": null,
      "outputs": [
        {
          "output_type": "execute_result",
          "data": {
            "text/plain": [
              "array([[0.8158914 ],\n",
              "       [0.49337548],\n",
              "       [0.65206957],\n",
              "       [0.01959831],\n",
              "       [0.31814367],\n",
              "       [0.6354721 ],\n",
              "       [0.01845321],\n",
              "       [0.31876305],\n",
              "       [0.64353067],\n",
              "       [0.23096713]], dtype=float32)"
            ]
          },
          "metadata": {
            "tags": []
          },
          "execution_count": 32
        }
      ]
    },
    {
      "cell_type": "code",
      "metadata": {
        "id": "b046abcf",
        "outputId": "5519930e-bd45-418f-b31e-6110b62e4fcb"
      },
      "source": [
        "y_test[691 + i]"
      ],
      "id": "b046abcf",
      "execution_count": null,
      "outputs": [
        {
          "output_type": "error",
          "ename": "NameError",
          "evalue": "name 'i' is not defined",
          "traceback": [
            "\u001b[1;31m---------------------------------------------------------------------------\u001b[0m",
            "\u001b[1;31mNameError\u001b[0m                                 Traceback (most recent call last)",
            "\u001b[1;32m<ipython-input-33-80a2096545cd>\u001b[0m in \u001b[0;36m<module>\u001b[1;34m\u001b[0m\n\u001b[1;32m----> 1\u001b[1;33m \u001b[0my_test\u001b[0m\u001b[1;33m[\u001b[0m\u001b[1;36m691\u001b[0m \u001b[1;33m+\u001b[0m \u001b[0mi\u001b[0m\u001b[1;33m]\u001b[0m\u001b[1;33m\u001b[0m\u001b[1;33m\u001b[0m\u001b[0m\n\u001b[0m",
            "\u001b[1;31mNameError\u001b[0m: name 'i' is not defined"
          ]
        }
      ]
    },
    {
      "cell_type": "code",
      "metadata": {
        "id": "f27df7cd"
      },
      "source": [
        "# summarize the first 5 cases\n",
        "for i in range(20):\n",
        "    print('%s %s => %d (expected %d)' % (\"correct\" if rounded[i] == y_test[691 + i] else \"incorrect\",round(X.iloc[i],2).tolist(), rounded[i], y_test[691 + i]))"
      ],
      "id": "f27df7cd",
      "execution_count": null,
      "outputs": []
    },
    {
      "cell_type": "code",
      "metadata": {
        "id": "51d15f72"
      },
      "source": [
        ""
      ],
      "id": "51d15f72",
      "execution_count": null,
      "outputs": []
    },
    {
      "cell_type": "code",
      "metadata": {
        "id": "833f4be8"
      },
      "source": [
        "\n"
      ],
      "id": "833f4be8",
      "execution_count": null,
      "outputs": []
    },
    {
      "cell_type": "markdown",
      "metadata": {
        "id": "b84ef150"
      },
      "source": [
        "# Random forest\n"
      ],
      "id": "b84ef150"
    },
    {
      "cell_type": "code",
      "metadata": {
        "id": "036beaf8"
      },
      "source": [
        "# Using Skicit-learn to split data into training and testing sets\n",
        "#from sklearn.model_selection import train_test_split\n",
        "# Split the data into training and testing sets\n",
        "#train_features, test_features, train_labels, test_labels = train_test_split(features, labels, test_size = 0.25, random_state = 42)"
      ],
      "id": "036beaf8",
      "execution_count": null,
      "outputs": []
    },
    {
      "cell_type": "code",
      "metadata": {
        "id": "b3c41e14"
      },
      "source": [
        "#use unnormilized data for RF\n",
        "#df_unscaled\n",
        "# split into input (X) and output (y) variables\n",
        "X_train = df_unscaled.iloc[0:int(len(df) * 0.9), 0:8]\n",
        "X_test = df_unscaled.iloc[int(len(df) * 0.9):, 0:8]\n",
        "y_train = df_unscaled.iloc[0:int(len(df) * 0.9), 8]\n",
        "y_test = df_unscaled.iloc[int(len(df) * 0.9):, 8]"
      ],
      "id": "b3c41e14",
      "execution_count": null,
      "outputs": []
    },
    {
      "cell_type": "code",
      "metadata": {
        "id": "5334fa4d"
      },
      "source": [
        "# Import the model we are using\n",
        "from sklearn.ensemble import RandomForestRegressor"
      ],
      "id": "5334fa4d",
      "execution_count": null,
      "outputs": []
    },
    {
      "cell_type": "code",
      "metadata": {
        "id": "e4a7289b"
      },
      "source": [
        "# Instantiate model with 1000 decision trees\n",
        "rf = RandomForestRegressor(n_estimators = 1000, random_state = 42, max_depth = 6)\n",
        "# Train the model on training data\n",
        "rf.fit(X_train, y_train);"
      ],
      "id": "e4a7289b",
      "execution_count": null,
      "outputs": []
    },
    {
      "cell_type": "code",
      "metadata": {
        "id": "4824cc4a"
      },
      "source": [
        ""
      ],
      "id": "4824cc4a",
      "execution_count": null,
      "outputs": []
    },
    {
      "cell_type": "code",
      "metadata": {
        "id": "e7b6c2b8"
      },
      "source": [
        ""
      ],
      "id": "e7b6c2b8",
      "execution_count": null,
      "outputs": []
    },
    {
      "cell_type": "code",
      "metadata": {
        "id": "86cdbc8c"
      },
      "source": [
        "# Use the forest's predict method on the test data\n",
        "predictions = rf.predict(X_test)\n",
        "rounded = [round(x) for x in predictions]\n",
        "# Calculate the absolute errors\n",
        "errors = abs(rounded - y_test)\n",
        "# Print out the mean absolute error (mae)\n",
        "print('Mean Absolute Error:', round(np.mean(errors), 2), 'degrees.')\n"
      ],
      "id": "86cdbc8c",
      "execution_count": null,
      "outputs": []
    },
    {
      "cell_type": "code",
      "metadata": {
        "id": "9a36e577"
      },
      "source": [
        "# summarize the first 5 cases\n",
        "for i in range(20):\n",
        "    print('%s %s => %d (expected %d)' % (\"correct\" if rounded[i] == y_test[691 + i] else \"incorrect\",round(X.iloc[i],2).tolist(), rounded[i], y_test[691 + i]))"
      ],
      "id": "9a36e577",
      "execution_count": null,
      "outputs": []
    },
    {
      "cell_type": "code",
      "metadata": {
        "id": "4ea49645"
      },
      "source": [
        "\n"
      ],
      "id": "4ea49645",
      "execution_count": null,
      "outputs": []
    },
    {
      "cell_type": "code",
      "metadata": {
        "id": "f073a60e"
      },
      "source": [
        "accuracy = np.sum(rounded == y_test)/len(y_test) * 100\n",
        "print('Accuracy:', round(accuracy, 2), '%.')"
      ],
      "id": "f073a60e",
      "execution_count": null,
      "outputs": []
    },
    {
      "cell_type": "code",
      "metadata": {
        "id": "58ee0a02"
      },
      "source": [
        "\n",
        "# Pull out one tree from the forest\n",
        "tree = rf.estimators_[5]"
      ],
      "id": "58ee0a02",
      "execution_count": null,
      "outputs": []
    },
    {
      "cell_type": "code",
      "metadata": {
        "id": "a5697d17"
      },
      "source": [
        ""
      ],
      "id": "a5697d17",
      "execution_count": null,
      "outputs": []
    },
    {
      "cell_type": "code",
      "metadata": {
        "scrolled": true,
        "id": "f838f85b"
      },
      "source": [
        "#Export the image to a dot file\n",
        "export_graphviz(tree, out_file = 'tree.dot',  rounded = True, precision = 1, \n",
        "                feature_names = [\"Pregnancies\", \"Plasma gluc conc\", \"Blood pressure\", \"Skin thickness\", \"Serum-insulin\", \"BMI\", \"Diabetis pedigree func\", \"Age\"],\n",
        "                class_names = [\"has diabetes\"])\n",
        "\n",
        "# Use dot file to create a graph\n",
        "(graph, ) = pydot.graph_from_dot_file('tree.dot')\n",
        "# Write graph to a png file\n",
        "graph.write_png('tree.png')"
      ],
      "id": "f838f85b",
      "execution_count": null,
      "outputs": []
    },
    {
      "cell_type": "code",
      "metadata": {
        "id": "702bb224"
      },
      "source": [
        "# Display in jupyter notebook\n",
        "from IPython.display import image\n",
        "image(filename = 'tree.png')"
      ],
      "id": "702bb224",
      "execution_count": null,
      "outputs": []
    },
    {
      "cell_type": "markdown",
      "metadata": {
        "id": "b3b514bb"
      },
      "source": [
        "If the value in the leaves is < 0.5, the tree would say that the patient has no diabetes."
      ],
      "id": "b3b514bb"
    },
    {
      "cell_type": "code",
      "metadata": {
        "id": "dd35bf1c"
      },
      "source": [
        ""
      ],
      "id": "dd35bf1c",
      "execution_count": null,
      "outputs": []
    },
    {
      "cell_type": "code",
      "metadata": {
        "id": "23e0fbbc"
      },
      "source": [
        ""
      ],
      "id": "23e0fbbc",
      "execution_count": null,
      "outputs": []
    },
    {
      "cell_type": "code",
      "metadata": {
        "id": "d68b0ad5"
      },
      "source": [
        ""
      ],
      "id": "d68b0ad5",
      "execution_count": null,
      "outputs": []
    }
  ]
}